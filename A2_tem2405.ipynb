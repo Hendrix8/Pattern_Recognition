{
  "nbformat": 4,
  "nbformat_minor": 0,
  "metadata": {
    "colab": {
      "name": "A2_tem2405.ipynb",
      "provenance": [],
      "authorship_tag": "ABX9TyPJfEInCqaJiI7Waa0zpaIo",
      "include_colab_link": true
    },
    "kernelspec": {
      "name": "python3",
      "display_name": "Python 3"
    },
    "language_info": {
      "name": "python"
    }
  },
  "cells": [
    {
      "cell_type": "markdown",
      "metadata": {
        "id": "view-in-github",
        "colab_type": "text"
      },
      "source": [
        "<a href=\"https://colab.research.google.com/github/Hendrix8/Pattern_Recognition/blob/main/A2_tem2405.ipynb\" target=\"_parent\"><img src=\"https://colab.research.google.com/assets/colab-badge.svg\" alt=\"Open In Colab\"/></a>"
      ]
    },
    {
      "cell_type": "code",
      "execution_count": 36,
      "metadata": {
        "id": "rWj_dDTYJHZe"
      },
      "outputs": [],
      "source": [
        "# Importing libraries \n",
        "import numpy as np \n",
        "import matplotlib.pyplot as plt \n",
        "import pandas as pd \n"
      ]
    },
    {
      "cell_type": "markdown",
      "source": [
        "# Exercise 1 : Medical Test Paradox\n",
        "\n",
        "\n"
      ],
      "metadata": {
        "id": "ldqMZacWQ1mF"
      }
    },
    {
      "cell_type": "markdown",
      "source": [
        "**Question 1** : \n",
        "Write a function in python that given the accuracy of a test and the prior\n",
        "probability of having a disease it returns the posterior probability of having that\n",
        "disease given that you tested positive."
      ],
      "metadata": {
        "id": "HFYMa0erS2dQ"
      }
    },
    {
      "cell_type": "code",
      "source": [
        "# Knowing sensitivity of the test, P(+|D), the specificity of the test P(-|!D) and \n",
        "#the prior probability of having the disease, P(D)\n",
        "# We have the following \n",
        "# P(D|+) = P(+|D) * P(D) / ( P(+|D) * P(D) + P(+|!D) * P(!D) ) (*)\n",
        "# Where\n",
        "# i) P(!D) = 1 - P(D) = \n",
        "# ii) P(+|!D) = 1 - P(-|!D)\n",
        "\n",
        "def P_D_pos(P_pos_D,P_neg_notD, P_D):\n",
        "\n",
        "  # finding P(!D)\n",
        "  P_notD = 1 - P_D \n",
        "  \n",
        "  # finding P(+|!D)\n",
        "  P_pos_notD = 1 - P_neg_notD\n",
        "\n",
        "  # return the result of formula (*)\n",
        "  return (P_pos_D * P_D) /( (P_pos_D * P_D) + P_pos_notD * P_notD ) "
      ],
      "metadata": {
        "id": "h27GWauYTE-z"
      },
      "execution_count": 37,
      "outputs": []
    },
    {
      "cell_type": "markdown",
      "source": [
        "**Question 2** : Use the function you implemented to calculate that given the statistics above,\n",
        "what is the probability of that person having the disease? Print the result as a\n",
        "percentage."
      ],
      "metadata": {
        "id": "rw9vqrm11mqV"
      }
    },
    {
      "cell_type": "code",
      "source": [
        "# first we calculate the prior P(D) given the statistics \n",
        "# P(D) = total cases / population and then we calculate P(D|+)\n",
        "\n",
        "P_D = 350000 / (7.9 * 10**(9))\n",
        "P_pos_D = 0.98\n",
        "P_neg_notD = 0.95\n",
        "\n",
        "P_D_pos = P_D_pos(P_pos_D, P_neg_notD, P_D) \n",
        "\n",
        "print(\"The probability of a person having the disease given that the\" + \n",
        "\" test was positive is \", round(P_D_pos * 100, 3), \"%\")"
      ],
      "metadata": {
        "colab": {
          "base_uri": "https://localhost:8080/"
        },
        "id": "eU2VlkcV1ykq",
        "outputId": "c501478f-34ec-4354-bdb0-041d613d65de"
      },
      "execution_count": 38,
      "outputs": [
        {
          "output_type": "stream",
          "name": "stdout",
          "text": [
            "The probability of a person having the disease given that the test was positive is  0.087 %\n"
          ]
        }
      ]
    },
    {
      "cell_type": "markdown",
      "source": [
        "**Question 3** : Having calculated the probability of that person having the rare disease you\n",
        "decided to tell the doctor that another test should be carried out since there is not enough evidence to come to a conclusion. Another test is being done to that person and again it comes out positive. After another positive test calculate and print (as a percentage) the posterior probability of that person having the disease."
      ],
      "metadata": {
        "id": "mYYiyLyG6yh4"
      }
    },
    {
      "cell_type": "code",
      "source": [
        ""
      ],
      "metadata": {
        "id": "5EyEOzpx7HvZ"
      },
      "execution_count": null,
      "outputs": []
    }
  ]
}