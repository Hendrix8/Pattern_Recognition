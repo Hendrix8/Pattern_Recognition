{
  "nbformat": 4,
  "nbformat_minor": 0,
  "metadata": {
    "colab": {
      "name": "A2_tem2405.ipynb",
      "provenance": [],
      "authorship_tag": "ABX9TyPbD0A1f5tOvrb/oVCiRcFd",
      "include_colab_link": true
    },
    "kernelspec": {
      "name": "python3",
      "display_name": "Python 3"
    },
    "language_info": {
      "name": "python"
    }
  },
  "cells": [
    {
      "cell_type": "markdown",
      "metadata": {
        "id": "view-in-github",
        "colab_type": "text"
      },
      "source": [
        "<a href=\"https://colab.research.google.com/github/Hendrix8/Pattern_Recognition/blob/main/A2_tem2405.ipynb\" target=\"_parent\"><img src=\"https://colab.research.google.com/assets/colab-badge.svg\" alt=\"Open In Colab\"/></a>"
      ]
    },
    {
      "cell_type": "code",
      "execution_count": null,
      "metadata": {
        "id": "rWj_dDTYJHZe"
      },
      "outputs": [],
      "source": [
        "# Importing libraries \n",
        "import numpy as np \n",
        "import matplotlib.pyplot as plt \n",
        "import pandas as pd \n"
      ]
    },
    {
      "cell_type": "markdown",
      "source": [
        "# Exercise 1 : Medical Test Paradox\n",
        "\n",
        "\n"
      ],
      "metadata": {
        "id": "ldqMZacWQ1mF"
      }
    },
    {
      "cell_type": "markdown",
      "source": [
        "**Question 1** : \n",
        "Write a function in python that given the accuracy of a test and the prior\n",
        "probability of having a disease it returns the posterior probability of having that\n",
        "disease given that you tested positive."
      ],
      "metadata": {
        "id": "HFYMa0erS2dQ"
      }
    },
    {
      "cell_type": "code",
      "source": [
        "# Knowing accuracy of the test : P(+|D) and the prior probability of having the disease : P(D)\n",
        "# We have the following \n",
        "# P(D|+) = P(+|D) * P(D) / ( P(+|D) * P(D) + P(+|!D) * P(!D) ) => P(D|+) = P(+|D) * P(D) / P(+)\n",
        "# We also have P(+,D) = P(+|D) * P(D) \n",
        "# Where P(!D) = 1 - P(D) \n",
        "\n",
        "def P_D_pos(P_pos_D, P_D):\n",
        "\n",
        "  # finding P(!D)\n",
        "  P_notD = 1 - P_D \n",
        "\n",
        "  return (P_pos_D * P_D) / P_pos\n"
      ],
      "metadata": {
        "id": "h27GWauYTE-z"
      },
      "execution_count": null,
      "outputs": []
    }
  ]
}