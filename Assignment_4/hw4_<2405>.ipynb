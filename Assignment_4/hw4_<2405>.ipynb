{
  "nbformat": 4,
  "nbformat_minor": 0,
  "metadata": {
    "colab": {
      "name": "hw4_<2405>.ipynb",
      "provenance": [],
      "collapsed_sections": [],
      "authorship_tag": "ABX9TyP1KUV0N2zsS1j1d76vLRiv",
      "include_colab_link": true
    },
    "kernelspec": {
      "name": "python3",
      "display_name": "Python 3"
    },
    "language_info": {
      "name": "python"
    }
  },
  "cells": [
    {
      "cell_type": "markdown",
      "metadata": {
        "id": "view-in-github",
        "colab_type": "text"
      },
      "source": [
        "<a href=\"https://colab.research.google.com/github/Hendrix8/Pattern_Recognition/blob/main/Assignment_4/hw4_%3C2405%3E.ipynb\" target=\"_parent\"><img src=\"https://colab.research.google.com/assets/colab-badge.svg\" alt=\"Open In Colab\"/></a>"
      ]
    },
    {
      "cell_type": "code",
      "execution_count": 74,
      "metadata": {
        "colab": {
          "resources": {
            "http://localhost:8080/nbextensions/google.colab/files.js": {
              "data": "Ly8gQ29weXJpZ2h0IDIwMTcgR29vZ2xlIExMQwovLwovLyBMaWNlbnNlZCB1bmRlciB0aGUgQXBhY2hlIExpY2Vuc2UsIFZlcnNpb24gMi4wICh0aGUgIkxpY2Vuc2UiKTsKLy8geW91IG1heSBub3QgdXNlIHRoaXMgZmlsZSBleGNlcHQgaW4gY29tcGxpYW5jZSB3aXRoIHRoZSBMaWNlbnNlLgovLyBZb3UgbWF5IG9idGFpbiBhIGNvcHkgb2YgdGhlIExpY2Vuc2UgYXQKLy8KLy8gICAgICBodHRwOi8vd3d3LmFwYWNoZS5vcmcvbGljZW5zZXMvTElDRU5TRS0yLjAKLy8KLy8gVW5sZXNzIHJlcXVpcmVkIGJ5IGFwcGxpY2FibGUgbGF3IG9yIGFncmVlZCB0byBpbiB3cml0aW5nLCBzb2Z0d2FyZQovLyBkaXN0cmlidXRlZCB1bmRlciB0aGUgTGljZW5zZSBpcyBkaXN0cmlidXRlZCBvbiBhbiAiQVMgSVMiIEJBU0lTLAovLyBXSVRIT1VUIFdBUlJBTlRJRVMgT1IgQ09ORElUSU9OUyBPRiBBTlkgS0lORCwgZWl0aGVyIGV4cHJlc3Mgb3IgaW1wbGllZC4KLy8gU2VlIHRoZSBMaWNlbnNlIGZvciB0aGUgc3BlY2lmaWMgbGFuZ3VhZ2UgZ292ZXJuaW5nIHBlcm1pc3Npb25zIGFuZAovLyBsaW1pdGF0aW9ucyB1bmRlciB0aGUgTGljZW5zZS4KCi8qKgogKiBAZmlsZW92ZXJ2aWV3IEhlbHBlcnMgZm9yIGdvb2dsZS5jb2xhYiBQeXRob24gbW9kdWxlLgogKi8KKGZ1bmN0aW9uKHNjb3BlKSB7CmZ1bmN0aW9uIHNwYW4odGV4dCwgc3R5bGVBdHRyaWJ1dGVzID0ge30pIHsKICBjb25zdCBlbGVtZW50ID0gZG9jdW1lbnQuY3JlYXRlRWxlbWVudCgnc3BhbicpOwogIGVsZW1lbnQudGV4dENvbnRlbnQgPSB0ZXh0OwogIGZvciAoY29uc3Qga2V5IG9mIE9iamVjdC5rZXlzKHN0eWxlQXR0cmlidXRlcykpIHsKICAgIGVsZW1lbnQuc3R5bGVba2V5XSA9IHN0eWxlQXR0cmlidXRlc1trZXldOwogIH0KICByZXR1cm4gZWxlbWVudDsKfQoKLy8gTWF4IG51bWJlciBvZiBieXRlcyB3aGljaCB3aWxsIGJlIHVwbG9hZGVkIGF0IGEgdGltZS4KY29uc3QgTUFYX1BBWUxPQURfU0laRSA9IDEwMCAqIDEwMjQ7CgpmdW5jdGlvbiBfdXBsb2FkRmlsZXMoaW5wdXRJZCwgb3V0cHV0SWQpIHsKICBjb25zdCBzdGVwcyA9IHVwbG9hZEZpbGVzU3RlcChpbnB1dElkLCBvdXRwdXRJZCk7CiAgY29uc3Qgb3V0cHV0RWxlbWVudCA9IGRvY3VtZW50LmdldEVsZW1lbnRCeUlkKG91dHB1dElkKTsKICAvLyBDYWNoZSBzdGVwcyBvbiB0aGUgb3V0cHV0RWxlbWVudCB0byBtYWtlIGl0IGF2YWlsYWJsZSBmb3IgdGhlIG5leHQgY2FsbAogIC8vIHRvIHVwbG9hZEZpbGVzQ29udGludWUgZnJvbSBQeXRob24uCiAgb3V0cHV0RWxlbWVudC5zdGVwcyA9IHN0ZXBzOwoKICByZXR1cm4gX3VwbG9hZEZpbGVzQ29udGludWUob3V0cHV0SWQpOwp9CgovLyBUaGlzIGlzIHJvdWdobHkgYW4gYXN5bmMgZ2VuZXJhdG9yIChub3Qgc3VwcG9ydGVkIGluIHRoZSBicm93c2VyIHlldCksCi8vIHdoZXJlIHRoZXJlIGFyZSBtdWx0aXBsZSBhc3luY2hyb25vdXMgc3RlcHMgYW5kIHRoZSBQeXRob24gc2lkZSBpcyBnb2luZwovLyB0byBwb2xsIGZvciBjb21wbGV0aW9uIG9mIGVhY2ggc3RlcC4KLy8gVGhpcyB1c2VzIGEgUHJvbWlzZSB0byBibG9jayB0aGUgcHl0aG9uIHNpZGUgb24gY29tcGxldGlvbiBvZiBlYWNoIHN0ZXAsCi8vIHRoZW4gcGFzc2VzIHRoZSByZXN1bHQgb2YgdGhlIHByZXZpb3VzIHN0ZXAgYXMgdGhlIGlucHV0IHRvIHRoZSBuZXh0IHN0ZXAuCmZ1bmN0aW9uIF91cGxvYWRGaWxlc0NvbnRpbnVlKG91dHB1dElkKSB7CiAgY29uc3Qgb3V0cHV0RWxlbWVudCA9IGRvY3VtZW50LmdldEVsZW1lbnRCeUlkKG91dHB1dElkKTsKICBjb25zdCBzdGVwcyA9IG91dHB1dEVsZW1lbnQuc3RlcHM7CgogIGNvbnN0IG5leHQgPSBzdGVwcy5uZXh0KG91dHB1dEVsZW1lbnQubGFzdFByb21pc2VWYWx1ZSk7CiAgcmV0dXJuIFByb21pc2UucmVzb2x2ZShuZXh0LnZhbHVlLnByb21pc2UpLnRoZW4oKHZhbHVlKSA9PiB7CiAgICAvLyBDYWNoZSB0aGUgbGFzdCBwcm9taXNlIHZhbHVlIHRvIG1ha2UgaXQgYXZhaWxhYmxlIHRvIHRoZSBuZXh0CiAgICAvLyBzdGVwIG9mIHRoZSBnZW5lcmF0b3IuCiAgICBvdXRwdXRFbGVtZW50Lmxhc3RQcm9taXNlVmFsdWUgPSB2YWx1ZTsKICAgIHJldHVybiBuZXh0LnZhbHVlLnJlc3BvbnNlOwogIH0pOwp9CgovKioKICogR2VuZXJhdG9yIGZ1bmN0aW9uIHdoaWNoIGlzIGNhbGxlZCBiZXR3ZWVuIGVhY2ggYXN5bmMgc3RlcCBvZiB0aGUgdXBsb2FkCiAqIHByb2Nlc3MuCiAqIEBwYXJhbSB7c3RyaW5nfSBpbnB1dElkIEVsZW1lbnQgSUQgb2YgdGhlIGlucHV0IGZpbGUgcGlja2VyIGVsZW1lbnQuCiAqIEBwYXJhbSB7c3RyaW5nfSBvdXRwdXRJZCBFbGVtZW50IElEIG9mIHRoZSBvdXRwdXQgZGlzcGxheS4KICogQHJldHVybiB7IUl0ZXJhYmxlPCFPYmplY3Q+fSBJdGVyYWJsZSBvZiBuZXh0IHN0ZXBzLgogKi8KZnVuY3Rpb24qIHVwbG9hZEZpbGVzU3RlcChpbnB1dElkLCBvdXRwdXRJZCkgewogIGNvbnN0IGlucHV0RWxlbWVudCA9IGRvY3VtZW50LmdldEVsZW1lbnRCeUlkKGlucHV0SWQpOwogIGlucHV0RWxlbWVudC5kaXNhYmxlZCA9IGZhbHNlOwoKICBjb25zdCBvdXRwdXRFbGVtZW50ID0gZG9jdW1lbnQuZ2V0RWxlbWVudEJ5SWQob3V0cHV0SWQpOwogIG91dHB1dEVsZW1lbnQuaW5uZXJIVE1MID0gJyc7CgogIGNvbnN0IHBpY2tlZFByb21pc2UgPSBuZXcgUHJvbWlzZSgocmVzb2x2ZSkgPT4gewogICAgaW5wdXRFbGVtZW50LmFkZEV2ZW50TGlzdGVuZXIoJ2NoYW5nZScsIChlKSA9PiB7CiAgICAgIHJlc29sdmUoZS50YXJnZXQuZmlsZXMpOwogICAgfSk7CiAgfSk7CgogIGNvbnN0IGNhbmNlbCA9IGRvY3VtZW50LmNyZWF0ZUVsZW1lbnQoJ2J1dHRvbicpOwogIGlucHV0RWxlbWVudC5wYXJlbnRFbGVtZW50LmFwcGVuZENoaWxkKGNhbmNlbCk7CiAgY2FuY2VsLnRleHRDb250ZW50ID0gJ0NhbmNlbCB1cGxvYWQnOwogIGNvbnN0IGNhbmNlbFByb21pc2UgPSBuZXcgUHJvbWlzZSgocmVzb2x2ZSkgPT4gewogICAgY2FuY2VsLm9uY2xpY2sgPSAoKSA9PiB7CiAgICAgIHJlc29sdmUobnVsbCk7CiAgICB9OwogIH0pOwoKICAvLyBXYWl0IGZvciB0aGUgdXNlciB0byBwaWNrIHRoZSBmaWxlcy4KICBjb25zdCBmaWxlcyA9IHlpZWxkIHsKICAgIHByb21pc2U6IFByb21pc2UucmFjZShbcGlja2VkUHJvbWlzZSwgY2FuY2VsUHJvbWlzZV0pLAogICAgcmVzcG9uc2U6IHsKICAgICAgYWN0aW9uOiAnc3RhcnRpbmcnLAogICAgfQogIH07CgogIGNhbmNlbC5yZW1vdmUoKTsKCiAgLy8gRGlzYWJsZSB0aGUgaW5wdXQgZWxlbWVudCBzaW5jZSBmdXJ0aGVyIHBpY2tzIGFyZSBub3QgYWxsb3dlZC4KICBpbnB1dEVsZW1lbnQuZGlzYWJsZWQgPSB0cnVlOwoKICBpZiAoIWZpbGVzKSB7CiAgICByZXR1cm4gewogICAgICByZXNwb25zZTogewogICAgICAgIGFjdGlvbjogJ2NvbXBsZXRlJywKICAgICAgfQogICAgfTsKICB9CgogIGZvciAoY29uc3QgZmlsZSBvZiBmaWxlcykgewogICAgY29uc3QgbGkgPSBkb2N1bWVudC5jcmVhdGVFbGVtZW50KCdsaScpOwogICAgbGkuYXBwZW5kKHNwYW4oZmlsZS5uYW1lLCB7Zm9udFdlaWdodDogJ2JvbGQnfSkpOwogICAgbGkuYXBwZW5kKHNwYW4oCiAgICAgICAgYCgke2ZpbGUudHlwZSB8fCAnbi9hJ30pIC0gJHtmaWxlLnNpemV9IGJ5dGVzLCBgICsKICAgICAgICBgbGFzdCBtb2RpZmllZDogJHsKICAgICAgICAgICAgZmlsZS5sYXN0TW9kaWZpZWREYXRlID8gZmlsZS5sYXN0TW9kaWZpZWREYXRlLnRvTG9jYWxlRGF0ZVN0cmluZygpIDoKICAgICAgICAgICAgICAgICAgICAgICAgICAgICAgICAgICAgJ24vYSd9IC0gYCkpOwogICAgY29uc3QgcGVyY2VudCA9IHNwYW4oJzAlIGRvbmUnKTsKICAgIGxpLmFwcGVuZENoaWxkKHBlcmNlbnQpOwoKICAgIG91dHB1dEVsZW1lbnQuYXBwZW5kQ2hpbGQobGkpOwoKICAgIGNvbnN0IGZpbGVEYXRhUHJvbWlzZSA9IG5ldyBQcm9taXNlKChyZXNvbHZlKSA9PiB7CiAgICAgIGNvbnN0IHJlYWRlciA9IG5ldyBGaWxlUmVhZGVyKCk7CiAgICAgIHJlYWRlci5vbmxvYWQgPSAoZSkgPT4gewogICAgICAgIHJlc29sdmUoZS50YXJnZXQucmVzdWx0KTsKICAgICAgfTsKICAgICAgcmVhZGVyLnJlYWRBc0FycmF5QnVmZmVyKGZpbGUpOwogICAgfSk7CiAgICAvLyBXYWl0IGZvciB0aGUgZGF0YSB0byBiZSByZWFkeS4KICAgIGxldCBmaWxlRGF0YSA9IHlpZWxkIHsKICAgICAgcHJvbWlzZTogZmlsZURhdGFQcm9taXNlLAogICAgICByZXNwb25zZTogewogICAgICAgIGFjdGlvbjogJ2NvbnRpbnVlJywKICAgICAgfQogICAgfTsKCiAgICAvLyBVc2UgYSBjaHVua2VkIHNlbmRpbmcgdG8gYXZvaWQgbWVzc2FnZSBzaXplIGxpbWl0cy4gU2VlIGIvNjIxMTU2NjAuCiAgICBsZXQgcG9zaXRpb24gPSAwOwogICAgZG8gewogICAgICBjb25zdCBsZW5ndGggPSBNYXRoLm1pbihmaWxlRGF0YS5ieXRlTGVuZ3RoIC0gcG9zaXRpb24sIE1BWF9QQVlMT0FEX1NJWkUpOwogICAgICBjb25zdCBjaHVuayA9IG5ldyBVaW50OEFycmF5KGZpbGVEYXRhLCBwb3NpdGlvbiwgbGVuZ3RoKTsKICAgICAgcG9zaXRpb24gKz0gbGVuZ3RoOwoKICAgICAgY29uc3QgYmFzZTY0ID0gYnRvYShTdHJpbmcuZnJvbUNoYXJDb2RlLmFwcGx5KG51bGwsIGNodW5rKSk7CiAgICAgIHlpZWxkIHsKICAgICAgICByZXNwb25zZTogewogICAgICAgICAgYWN0aW9uOiAnYXBwZW5kJywKICAgICAgICAgIGZpbGU6IGZpbGUubmFtZSwKICAgICAgICAgIGRhdGE6IGJhc2U2NCwKICAgICAgICB9LAogICAgICB9OwoKICAgICAgbGV0IHBlcmNlbnREb25lID0gZmlsZURhdGEuYnl0ZUxlbmd0aCA9PT0gMCA/CiAgICAgICAgICAxMDAgOgogICAgICAgICAgTWF0aC5yb3VuZCgocG9zaXRpb24gLyBmaWxlRGF0YS5ieXRlTGVuZ3RoKSAqIDEwMCk7CiAgICAgIHBlcmNlbnQudGV4dENvbnRlbnQgPSBgJHtwZXJjZW50RG9uZX0lIGRvbmVgOwoKICAgIH0gd2hpbGUgKHBvc2l0aW9uIDwgZmlsZURhdGEuYnl0ZUxlbmd0aCk7CiAgfQoKICAvLyBBbGwgZG9uZS4KICB5aWVsZCB7CiAgICByZXNwb25zZTogewogICAgICBhY3Rpb246ICdjb21wbGV0ZScsCiAgICB9CiAgfTsKfQoKc2NvcGUuZ29vZ2xlID0gc2NvcGUuZ29vZ2xlIHx8IHt9OwpzY29wZS5nb29nbGUuY29sYWIgPSBzY29wZS5nb29nbGUuY29sYWIgfHwge307CnNjb3BlLmdvb2dsZS5jb2xhYi5fZmlsZXMgPSB7CiAgX3VwbG9hZEZpbGVzLAogIF91cGxvYWRGaWxlc0NvbnRpbnVlLAp9Owp9KShzZWxmKTsK",
              "ok": true,
              "headers": [
                [
                  "content-type",
                  "application/javascript"
                ]
              ],
              "status": 200,
              "status_text": ""
            }
          },
          "base_uri": "https://localhost:8080/",
          "height": 74
        },
        "id": "VII8IdCNx6Hh",
        "outputId": "88ffed7e-ba2d-445d-a6a3-40d0f984f131"
      },
      "outputs": [
        {
          "output_type": "display_data",
          "data": {
            "text/plain": [
              "<IPython.core.display.HTML object>"
            ],
            "text/html": [
              "\n",
              "     <input type=\"file\" id=\"files-990cfd6a-318e-42ec-9d4f-c02ee0089d92\" name=\"files[]\" multiple disabled\n",
              "        style=\"border:none\" />\n",
              "     <output id=\"result-990cfd6a-318e-42ec-9d4f-c02ee0089d92\">\n",
              "      Upload widget is only available when the cell has been executed in the\n",
              "      current browser session. Please rerun this cell to enable.\n",
              "      </output>\n",
              "      <script src=\"/nbextensions/google.colab/files.js\"></script> "
            ]
          },
          "metadata": {}
        },
        {
          "output_type": "stream",
          "name": "stdout",
          "text": [
            "Saving dataset1.csv to dataset1 (1).csv\n"
          ]
        }
      ],
      "source": [
        "# uploading file to colab \n",
        "# when choosing run all, upload the files of the assignment.\n",
        "from google.colab import files\n",
        "uploaded = files.upload()"
      ]
    },
    {
      "cell_type": "code",
      "source": [
        "# importing libraries\n",
        "import numpy as np # for computations\n",
        "from numpy import linalg as la # faster notation\n",
        "import matplotlib.pyplot as plt # for plotting \n",
        "import pandas as pd # for reading the files"
      ],
      "metadata": {
        "id": "cJf8Q9c9Msr4"
      },
      "execution_count": 75,
      "outputs": []
    },
    {
      "cell_type": "code",
      "source": [
        "# Extracting the data \n",
        "df = pd.read_csv(\"dataset1.csv\")\n",
        "data = df.to_numpy() # turning all data into one matrix (100,3)\n",
        "\n",
        "# separating the classes\n",
        "class0 = df[df[\"label\"] == 0.0]\n",
        "class1 = df[df[\"label\"] == 1.0]\n",
        "\n",
        "y = data[:, 0:2] # the features \n",
        "labels = data[:, 2] # the labels\n",
        "\n",
        "# impementing the bias trick\n",
        "ones = np.ones([y.shape[0]]) # array with 100 '1's \n",
        "ones = ones.reshape((ones.shape[0],1)) # shaping the ones to be (100,1)\n",
        "y = np.append(y, ones, axis=1)\n",
        "y[:, [0, 2]] = y[:, [2, 0]] # swaping the first column with the last\n",
        "y[:, [1, 2]] = y[:, [2, 1]] # swapping the second column with the last"
      ],
      "metadata": {
        "id": "hAK1xcGhNt2Y"
      },
      "execution_count": 76,
      "outputs": []
    },
    {
      "cell_type": "markdown",
      "source": [
        "#Challenge (Bonus 10%): Proper Python code\n",
        "Use only two for/while loops throughout the whole assignment."
      ],
      "metadata": {
        "id": "HgWIuG0FzRNF"
      }
    },
    {
      "cell_type": "markdown",
      "source": [
        "#Exercise 1 (50%): Single-sample Perceptron\n",
        "For this exercise you are going to use the dataset in the ‘dataset1.csv’ file. The dataset consists of 3 columns (the first and second are the features and the last are the labels) and 100 rows of 2-dimensional data.\n",
        "You are assigned to design a linear classifier and train it with the gradient descent algorithm on the given dataset. More specifically, you will implement the Fixed-increment single-sample Perceptron (Fixed-increment = fixed learning rate, single-sample = one sample per weights’ update, Perceptron = the Perceptron learning criterion).\n",
        "\n"
      ],
      "metadata": {
        "id": "lnzDR0kszA8g"
      }
    },
    {
      "cell_type": "markdown",
      "source": [
        "**Question 1** $ \\, ) \\,$ \n",
        "\n",
        " Create a scatter plot of the dataset with different colors for each class. If you do\n",
        "it correctly, you will be able to see what linearly separable data looks like. In theory, linearly separable data are the data which are separable by a linear model."
      ],
      "metadata": {
        "id": "h-G-zqxgz6jV"
      }
    },
    {
      "cell_type": "code",
      "source": [
        "feature1_0 = class0[\"feature_1\"].tolist() # feature_1 where label=0\n",
        "feature1_1 = class1[\"feature_1\"].tolist() # feature_1 where label=1\n",
        "feature2_0 = class0[\"feature_2\"].tolist() # feature_2 where label=0\n",
        "feature2_1 = class1[\"feature_2\"].tolist() # feature_2 where label=1\n",
        "\n",
        "plt.figure(figsize=(10,8))\n",
        "\n",
        "# naming the axis and the plot\n",
        "plt.xlabel(\"Feature 1\")\n",
        "plt.ylabel(\"Feature 2\")\n",
        "plt.title(\"Scatter Plot of The Features\")\n",
        "\n",
        "# plotting the features with different colors and markers\n",
        "plt.scatter(feature1_0, feature2_0, label=\"class 0\", marker=\"+\")\n",
        "plt.scatter(feature1_1, feature2_1, label=\"class 1\", marker=\"*\")\n",
        "\n",
        "plt.legend()\n",
        "plt.show()"
      ],
      "metadata": {
        "colab": {
          "base_uri": "https://localhost:8080/",
          "height": 513
        },
        "id": "fd7wzKI1QbS7",
        "outputId": "db08c7d4-d318-4c89-8a5a-f81236522903"
      },
      "execution_count": 77,
      "outputs": [
        {
          "output_type": "display_data",
          "data": {
            "text/plain": [
              "<Figure size 720x576 with 1 Axes>"
            ],
            "image/png": "[encoded data removed]"
          },
          "metadata": {
            "needs_background": "light"
          }
        }
      ]
    },
    {
      "cell_type": "markdown",
      "source": [
        "**Question 2** $ \\, ) \\,$ \n",
        "\n",
        "Create a function named ‘train_single_sample’ which implements the Fixed-Increment Single-Sample Perceptron algorithm. The arguments of the function have to be the following:\n",
        "\n",
        "a $\\,) \\, \\ a := \\ the \\ parameters \\ of \\ the \\ model \\  \\, ( \\, weights \\ + \\ bias \\,) $ \n",
        "\n",
        "\n",
        "b $ \\,) \\,  \\ y := \\ the \\ data \\ and \\ the \\ column \\ of \\ \\ \n",
        "'1's \\,( \\, this \\ is \\ called \\ the \\ bias \\ trick \\,) $\n",
        "\n",
        "\n",
        "c $\\, ) \\, \\ labels := the \\ labels \\ of \\ the \\  samples \\ in \\ y$\n",
        "\n",
        "d $ \\, ) \\, \\ n\\_iterations := \\ the \\ number \\ of \\  updates $\n",
        "\n",
        "e $ \\, ) \\, \\ lr := the  \\ learning \\ rate $\n",
        "\n",
        "f $ \\, ) \\,  \\ variable\\_lr := False \\ if \\ fixed \\ lr , \\ True \\ otherwise $\n",
        "\n",
        "g $ \\, ) \\, \\ verbose \\ := \\ If \\ True \\ print \\ accuracy \\ every \\ \\ 100 \\sim 1000 \\ \\  iterations $\n",
        "\n",
        "The return values of the function should be the following:\n",
        "\n",
        "a $ \\, ) \\, \\  a := \\ the \\ trained \\ parameters $\n",
        "\n",
        "b $ \\, ) \\, \\ history :=  \\ accuracy  \\ throughout \\ training \\,( \\, \\ every \\ 100 \\sim 1000 \\ iterations) $"
      ],
      "metadata": {
        "id": "4BVUFIaG0E5f"
      }
    },
    {
      "cell_type": "markdown",
      "source": [
        "we have our hypothesis function: \n",
        "\n",
        "$h_a \\,( \\,y \\,) \\, = g \\,( \\, a^\\intercal \\cdot y ) $\n",
        "\n",
        "where  $ \\ \\ g(z)=\\begin{cases}\n",
        "    1, & \\text{ $z \\geq 0$}.\\\\\n",
        "    0, & \\text{ $z < 0 $}.\n",
        "  \\end{cases} $\n",
        "\n",
        "The inputs of $h_a$ are the trained weights $a$ and a sample $y$. \n",
        "The value that is returned from function $h_a$ is 0 or 1 and depending on that value we classify the sample $y$.\n",
        "\n",
        "The updating rule will be based on the Perceptron cost function.\n",
        "\n",
        "$ J_p \\, (\\, a \\, )\\, = \\sum_{y \\in 𝒴} \\, ( \\, \\delta_y a^\\intercal  y\\, )\\,  $\n",
        "\n",
        "where $𝒴$ is the set of all the misclassified samples, therefore this function expresses the samples $y$ that our model missclassifies.\n",
        "\n",
        "also $\\delta_y = 1 $ if $ y \\in class_0$ and $\\delta_y = -1$ if $ y \\in class_1$ (I use $\\delta_y$ instead of doing the \"normalization\")\n",
        "\n",
        "Ideally we want our classifier to classify all samples correctly and so it makes sense to minimize $J_p$\n",
        "\n",
        "We have : \n",
        "\n",
        "$ \\large ∇ \\normalsize J_p = \\sum_{y \\in 𝒴} \\, ( \\, \\delta_y y \\, ) $\n",
        "\n",
        "Using this result and impelementing Gradient Decent with a learning rate $lr$ we get the updating rule : \n",
        "\n",
        "$a = a + lr \\cdot \\sum_{y \\in 𝒴} \\, ( \\, \\delta_y y \\, ) $\n",
        "\n",
        "When implementing the single-sample Perceptron we update for every single missclassified sample we find, and so the updating rule becomes \n",
        "\n",
        "$a = a + lr \\cdot \\, ( \\, \\delta_y y \\, ) \\, \\, \\, ∀y \\in 𝒴 $\n",
        "\n",
        "The method I will use to find if a sample is missclassified or not is by plugging it in the hypothesis function $h_a$ and then comparing it to the real label. With that logic we have $\\delta_y =  \\, ( \\, label\\_y - h_a(\\, y \\,) \\, )$ and so the updating rule becomes : \n",
        "\n",
        "$a = a + lr ⋅ \\, ( \\, label\\_y - h_a(\\, y \\,) \\, ) \\cdot y\\, $\n",
        "\n",
        "Where the quantity  $( \\, label\\_y - h_a(\\, y \\,) \\, )$ returns a value in the set $ \\{1,-1,0 \\} $\n",
        "\n",
        "When  $\\, ( \\, label\\_y - h_a(\\, y \\,) \\, ) = 1 $ that means we have predicted $\\ 0 \\ $ when the true value was $1$ and therefore we must add to the vector $a$ so that it's angle with $y$ gets more narrow and therefore the quantity $ a^\\intercal \\cdot y $ is more likely to be $\\geq 0$, which implies that $h_a \\,( \\, y \\, )\\,$ is more likely to become $\\ 1$\n",
        "\n",
        "When  $\\, ( \\, label\\_y - h_a(\\, y \\,) \\, ) = -1 $ that means we have predicted $\\ 1 \\ $ when the true value was $0$ and therefore we must subtract from the vector $a$ so that its angle with $y$ is widened and therefore the quantity $ a^\\intercal \\cdot y $ is more likely to be $ < 0,$ which implies that $h_a \\,( \\, y \\, )\\,$ is more likely to become $ \\ 0$\n",
        "\n",
        "Lastly if  $\\, ( \\, label\\_y - h_a(\\, y \\,) \\, ) = 0 $ then we have predicted correctly and therefore the vector $a$ does not need modification.\n"
      ],
      "metadata": {
        "id": "2wn7PBYjckfJ"
      }
    },
    {
      "cell_type": "code",
      "source": [
        "def g(z): # this is the step function \n",
        "  return 0.0 if z < 0 else 1.0\n",
        "\n",
        "def h(a, y): # this is the hypothesis function\n",
        "  return g(a.T @ y)\n",
        "\n",
        "# fixed-increment single-sample Perceptron\n",
        "def train_single_sample(a, y, labels, n_iterations, lr, variable_lr=False, verbose=False):\n",
        "  \n",
        "  history = {} # this dictionary will contain the accuracy as value and the iteration as key\n",
        "  iterr = 0\n",
        "  index = 0\n",
        "  accuracy_counter = 0\n",
        "  iter_print_accuracy = np.random.randint(100,1000) # this is the first iteration index for printing accuracy info\n",
        "\n",
        "  while iterr <= n_iterations:\n",
        "\n",
        "    # storing the result because I will use it for the history list\n",
        "    delta_y = labels[index] - h(a, y[index]) # determines if we predicted correctly \n",
        "\n",
        "    # this updates only the missclassified samples since if they are correct then the second term is 0\n",
        "    a = a + lr * ( delta_y ) * y[index]\n",
        "\n",
        "    iterr += 1 # adding one to the iteration\n",
        "    index = (index + 1) % len(y) # this counter will go from 0 to 99 in circles\n",
        "\n",
        "    # if variable learning rate is set to True then we change the learning rate\n",
        "    if variable_lr and index != 0:\n",
        "      lr = 1 / np.sqrt(index)\n",
        "\n",
        "    if delta_y == 0: # if predicted correctly add one to the accuracy counter\n",
        "      accuracy_counter += 1\n",
        "    \n",
        "    if index == 99:\n",
        "      # resetting the accuracy counter for the next 100 iterations\n",
        "      accuracy_counter = 0\n",
        "\n",
        "    if iterr == iter_print_accuracy: \n",
        "\n",
        "      # dividing the result of the accuracy counter by the length of the sample\n",
        "      accuracy = accuracy_counter / len(y)\n",
        "      history[iterr] = accuracy# appending the accuracy (this happens every 100 iterations)\n",
        "\n",
        "      # if verbose is true then print the accuracy \n",
        "      if verbose:\n",
        "        print(\"Iteration : {} -> Accuracy : {}\".format(iterr, accuracy))\n",
        "\n",
        "      # updating the iter_print_accuracy for the next print\n",
        "      iter_print_accuracy += np.random.randint(100,1000)\n",
        "\n",
        "  return a, history "
      ],
      "metadata": {
        "id": "TkSSkwBFVENO"
      },
      "execution_count": 78,
      "outputs": []
    },
    {
      "cell_type": "markdown",
      "source": [
        "**Question 3** $ \\, ) \\,$ \n",
        "\n",
        "Create a function named ‘plot_model’ which returns a scatter plot (as in step one) along with a linear model. More specifically, given the weights of a linear model, it should also plot a line on the figure for the model itself. (Hint: Your model is nothing more than a simple function. It returns a value Z for every x, y on the 2D space. Z is zero when x, y are on the line it represents. You could/should use the plt.contour function ;) )"
      ],
      "metadata": {
        "id": "r7LgQB9i9aLx"
      }
    },
    {
      "cell_type": "markdown",
      "source": [
        "For $y \\in ℝ^3 $ where $y_0 = 1$ we get the decision line when $a^\\intercal \\cdot y = 0 \\ $ and so we have : \n",
        "\n",
        "$ a^\\intercal \\cdot y = 0 \\iff a_0 + a_1 ⋅ y_1 + a_2 ⋅ y_2 = 0 \\iff \n",
        "y_2 = \\normalsize - \\large \\frac{a_0}{a_2} \\normalsize - \\large \\frac {a_1}{a_2} \\normalsize \\cdot y_1 $\n",
        "\n",
        "So the decision line function has the following form \n",
        "\n",
        "$ decision\\_line \\,( \\,x \\, ) \\, = \\normalsize - \\large \\frac {a_1}{a_2} \\normalsize \\cdot x  \\normalsize - \\large \\frac{a_0}{a_2} \\ \\ \\ \\ \\ \\normalsize ∀ x \\in ℝ $ and $a_2 \\neq 0$\n"
      ],
      "metadata": {
        "id": "aSQz9fzvCiZZ"
      }
    },
    {
      "cell_type": "code",
      "source": [
        "# function for the decision line\n",
        "def decision_line(a, x):\n",
        "  return - a[1] / a[2] * x - a[0] / a[2] * np.ones(x.shape)\n",
        "\n",
        "def plot_model(a):\n",
        "  fig, ax = plt.subplots(figsize=(10,8))\n",
        "  feature1_0 = class0[\"feature_1\"].tolist() # feature_1 where label=0\n",
        "  feature1_1 = class1[\"feature_1\"].tolist() # feature_1 where label=1\n",
        "  feature2_0 = class0[\"feature_2\"].tolist() # feature_2 where label=0\n",
        "  feature2_1 = class1[\"feature_2\"].tolist() # feature_2 where label=1\n",
        "\n",
        "  # naming the axis and the plot\n",
        "  ax.set_xlabel(\"Feature 1\")\n",
        "  ax.set_ylabel(\"Feature 2\")\n",
        "  ax.set_title(\"Scatter Plot of The Features with Decision Line\")\n",
        "\n",
        "  # plotting the features with different colors and markers\n",
        "  ax.scatter(feature1_0, feature2_0, label=\"class 0\", marker=\"+\")\n",
        "  ax.scatter(feature1_1, feature2_1, label=\"class 1\", marker=\"*\")\n",
        "\n",
        "  # ==========================================\n",
        "  #             Desicion line \n",
        "  # ==========================================\n",
        "  x_values = np.linspace(4, 7, 100)\n",
        "  y_values = [decision_line(a, x_i) for x_i in x_values]\n",
        "\n",
        "  # plotting the decision line \n",
        "  ax.plot(x_values, y_values, label=\"decision line\", color=\"black\", linestyle=\"--\")\n",
        "  ax.legend()\n",
        "\n",
        "  return ax"
      ],
      "metadata": {
        "id": "Y0GmJIh7CXon"
      },
      "execution_count": 79,
      "outputs": []
    },
    {
      "cell_type": "markdown",
      "source": [
        "**Question 4** $ \\, ) \\,$ \n",
        "\n",
        "Apply your model on the data using the function ‘train_single_sample’, for 10000 iterations with a learning rate of 1. Your function should print information about training if the ‘verbose’ argument is True every 100~1000 iterations. The printed information should look like this:\n",
        "Iteration: {index of current iteration} --> accuracy: {current accuracy}"
      ],
      "metadata": {
        "id": "xRhIt8dl9pbZ"
      }
    },
    {
      "cell_type": "code",
      "source": [
        "a = np.zeros((3,))# initializing a (and initializing it s.t. a_2 != 0)\n",
        "a, history = train_single_sample(a, y, labels, n_iterations=10000, lr=1, verbose=True)"
      ],
      "metadata": {
        "colab": {
          "base_uri": "https://localhost:8080/"
        },
        "id": "6KaoKkPO_eq_",
        "outputId": "17490908-0cab-4b3e-af50-0a9c103817c2"
      },
      "execution_count": 80,
      "outputs": [
        {
          "output_type": "stream",
          "name": "stdout",
          "text": [
            "Iteration : 329 -> Accuracy : 0.29\n",
            "Iteration : 956 -> Accuracy : 0.54\n",
            "Iteration : 1503 -> Accuracy : 0.03\n",
            "Iteration : 1803 -> Accuracy : 0.03\n",
            "Iteration : 2010 -> Accuracy : 0.1\n",
            "Iteration : 2298 -> Accuracy : 0.97\n",
            "Iteration : 2755 -> Accuracy : 0.54\n",
            "Iteration : 3075 -> Accuracy : 0.75\n",
            "Iteration : 3902 -> Accuracy : 0.02\n",
            "Iteration : 4830 -> Accuracy : 0.3\n",
            "Iteration : 5753 -> Accuracy : 0.53\n",
            "Iteration : 6317 -> Accuracy : 0.17\n",
            "Iteration : 6737 -> Accuracy : 0.37\n",
            "Iteration : 7417 -> Accuracy : 0.17\n",
            "Iteration : 7915 -> Accuracy : 0.15\n",
            "Iteration : 8044 -> Accuracy : 0.44\n",
            "Iteration : 8852 -> Accuracy : 0.51\n",
            "Iteration : 9404 -> Accuracy : 0.04\n",
            "Iteration : 9570 -> Accuracy : 0.7\n"
          ]
        }
      ]
    },
    {
      "cell_type": "markdown",
      "source": [
        "**Question 5** $ \\, ) \\,$ \n",
        "\n",
        "Plot the trained model using the function ‘plot_model’."
      ],
      "metadata": {
        "id": "J7_7aTcI9w8S"
      }
    },
    {
      "cell_type": "code",
      "source": [
        "plot_model(a)\n",
        "plt.show()"
      ],
      "metadata": {
        "colab": {
          "base_uri": "https://localhost:8080/",
          "height": 513
        },
        "id": "W7t1sIJ_Abgn",
        "outputId": "5ddbe90e-93e1-4b85-f3d6-7da1a3a6222d"
      },
      "execution_count": 81,
      "outputs": [
        {
          "output_type": "display_data",
          "data": {
            "text/plain": [
              "<Figure size 720x576 with 1 Axes>"
            ],
            "image/png": "[encoded data removed]"
          },
          "metadata": {
            "needs_background": "light"
          }
        }
      ]
    },
    {
      "cell_type": "markdown",
      "source": [
        "**Question 6** $ \\, ) \\,$ \n",
        "\n",
        "Repeat steps 4 and 5 but this time use a variable learning rate. The learning rate\n",
        "should be equal to:\n",
        "\n",
        "$ \\Large \\frac{1}{\\sqrt{k}} \\ \\\n",
        "\\normalsize where  \\ k = k + \\, ( \\, iter \\ \\% \\ n \\,)\\,  $\n",
        "\n",
        "$ iter := iteration index  $\n",
        "\n",
        "$ n := \\# samples $"
      ],
      "metadata": {
        "id": "d_0BACca92-N"
      }
    },
    {
      "cell_type": "code",
      "source": [
        "# Question 6.4\n",
        "a = np.zeros((3,))# initializing a\n",
        "a, history = train_single_sample(a, y, labels, n_iterations=10000, lr=1, variable_lr=True, verbose=True)\n",
        "\n",
        "# Question 6.5\n",
        "plot_model(a)\n",
        "plt.show()"
      ],
      "metadata": {
        "colab": {
          "base_uri": "https://localhost:8080/",
          "height": 834
        },
        "id": "CT8xc79WFm-o",
        "outputId": "4a50e85d-f93c-44b6-8243-596258f97964"
      },
      "execution_count": 82,
      "outputs": [
        {
          "output_type": "stream",
          "name": "stdout",
          "text": [
            "Iteration : 571 -> Accuracy : 0.7\n",
            "Iteration : 1098 -> Accuracy : 0.97\n",
            "Iteration : 1567 -> Accuracy : 0.66\n",
            "Iteration : 1814 -> Accuracy : 0.15\n",
            "Iteration : 2655 -> Accuracy : 0.54\n",
            "Iteration : 2818 -> Accuracy : 0.19\n",
            "Iteration : 3454 -> Accuracy : 0.53\n",
            "Iteration : 4222 -> Accuracy : 0.23\n",
            "Iteration : 4813 -> Accuracy : 0.14\n",
            "Iteration : 5019 -> Accuracy : 0.2\n",
            "Iteration : 5527 -> Accuracy : 0.28\n",
            "Iteration : 5968 -> Accuracy : 0.67\n",
            "Iteration : 6642 -> Accuracy : 0.42\n",
            "Iteration : 6885 -> Accuracy : 0.84\n",
            "Iteration : 7504 -> Accuracy : 0.05\n",
            "Iteration : 7714 -> Accuracy : 0.15\n",
            "Iteration : 8512 -> Accuracy : 0.13\n",
            "Iteration : 9269 -> Accuracy : 0.68\n"
          ]
        },
        {
          "output_type": "display_data",
          "data": {
            "text/plain": [
              "<Figure size 720x576 with 1 Axes>"
            ],
            "image/png": "[encoded data removed]"
          },
          "metadata": {
            "needs_background": "light"
          }
        }
      ]
    },
    {
      "cell_type": "markdown",
      "source": [
        "**Question 7** $ \\, ) \\,$ \n",
        "\n",
        "(Bonus 5%) Does one method seem to be better than the other (fixed learning rate vs variable learning rate)? If yes, why? (2-3 sentences)"
      ],
      "metadata": {
        "id": "hvqe4AFA_gY9"
      }
    },
    {
      "cell_type": "markdown",
      "source": [
        "From what information we can gather from the plots, it seems that variable learning rate performs better than fixed learning rate, meaning that with a variable learning rate, Gradiend Decent converges faster than with a fixed learning rate.\n",
        "\n",
        "This happens because as we reach the minimum of the criterion function the curve becomes sharper and so if we make big steps we might have to go back again before we reach the minimum therefore it is more efficient to make smaller steps as we go. "
      ],
      "metadata": {
        "id": "0NK7KvoFF6CT"
      }
    },
    {
      "cell_type": "markdown",
      "source": [
        "#Exercise 2 (50%): Batch Perceptron\n",
        "\n",
        "For this exercise you are going to use the same dataset. You will again design a linear classifier and train it with the gradient descent algorithm. More specifically, you will implement the Batch Perceptron algorithm."
      ],
      "metadata": {
        "id": "aco22lgx_rId"
      }
    },
    {
      "cell_type": "markdown",
      "source": [
        "**Question 1** $ \\, ) \\,$ \n",
        "\n",
        "Create a function named ‘train_batch’ which implements the Batch Perceptron\n",
        "algorithm. The arguments of the function have to be the following:\n",
        "\n",
        "a $ \\, ) \\, \\ a := \\ the \\ parameters \\ of \\ the \\ model \\ ( \\ weights \\ + \\ bias \\ ) $\n",
        "\n",
        "b $\\, ) \\,\\ y := \\ the \\ data \\ and \\ the \\ column \\ of \\ '1's \\ ( \\ this \\ is \\ called \\ the \\ bias \\ trick \\ ) $\n",
        "\n",
        "\n",
        "c $ \\, ) \\, \\ labels := \\ the \\ labels \\ of \\ the \\ samples \\ in \\ y $\n",
        "\n",
        "d $ \\, ) \\, \\ theta := \\ the \\ value \\ for \\ the \\ theta \\ criterion $\n",
        "\n",
        "e $ \\, ) \\, \\ batch\\_size := \\ the \\ number \\ of \\ samples \\ per \\ weights’ \\ update $\n",
        "\n",
        "f $ \\, ) \\, \\ lr := \\ the \\ learning \\ rate $\n",
        "\n",
        "g $ \\,) \\, \\ variable\\_lr := \\ False \\ if \\ fixed \\ lr \\ , \\ True \\ otherwise $\n",
        "\n",
        "h $ \\, ) \\, \\ verbose := \\ If \\ True \\ print \\ accuracy \\ every \\ 100 \\sim 1000 \\ iterations $\n",
        "\n",
        "The return values of the function should be the following:\n",
        "\n",
        "c $\\, ) \\, \\ a := \\ the \\ trained \\ parameters $\n",
        "\n",
        "d $ \\, ) \\, \\ history := \\ accuracy \\ throughout \\ training \\ \\,( \\, \\ every \\ 100 \\sim 1000 \\ iterations \\,) $"
      ],
      "metadata": {
        "id": "XiyTvnyn_uCW"
      }
    },
    {
      "cell_type": "markdown",
      "source": [
        "Again we have our hypothesis function: \n",
        "\n",
        "$h_a \\,( \\,y \\,) \\, = g \\,( \\, a^\\intercal \\cdot y ) $\n",
        "\n",
        "where  $ \\ \\ g(z)=\\begin{cases}\n",
        "    1, & \\text{ $z \\geq 0$}.\\\\\n",
        "    0, & \\text{ $z < 0 $}.\n",
        "  \\end{cases} $\n",
        "\n",
        "But now instead of updating when finding a single misclassified sample, we update when we find a collection of misclassified samples.\n",
        "\n",
        "We have the Perceptron cost function \n",
        "\n",
        "$ J_p \\, (\\, a \\, )\\, = \\sum_{y \\in 𝒴} \\, ( \\, \\delta_y a^\\intercal  y \\, )\\,  $\n",
        "\n",
        "and we will use Gradient Decent to minimize it : \n",
        "\n",
        "$a = a + lr \\cdot \\sum_{y \\in 𝒴} \\,( \\,label\\_y - h_a \\,( \\,y \\,)\\, \\,)\\, ⋅ y \\,  $"
      ],
      "metadata": {
        "id": "eVtYamA5y4cf"
      }
    },
    {
      "cell_type": "code",
      "source": [
        "def g(z): # this is the step function \n",
        "  return 0.0 if z < 0 else 1.0\n",
        "\n",
        "def h(a, y): # this is the hypothesis function\n",
        "  return g(a.T @ y)\n",
        "\n",
        "def train_batch(a, y, labels, theta, lr, batch_size=1, n_iterations=10000, variable_lr=False, verbose=False):\n",
        "\n",
        "  history = {} # this dictionary will contain the accuracy as value and the iteration as key\n",
        "  misscl = [] # this will contain all the misclassified samples for each cycle\n",
        "  iterr = 0\n",
        "  index = 0\n",
        "  accuracy_counter = 0\n",
        "  iter_print_accuracy = np.random.randint(100,1000) # this is the first iteration index for printing accuracy info\n",
        "\n",
        "  while iterr <= n_iterations:\n",
        "\n",
        "    delta_y = labels[index] - h(a, y[index])\n",
        "\n",
        "    if delta_y != 0.0: # if we get a missclassified example\n",
        "      misscl.append(delta_y * y[index]) # then add that example to the misscl list multiplied by the delta so that the sign is correct\n",
        "    \n",
        "    if index == batch_size % len(y):\n",
        "      a = a + lr * sum(misscl)\n",
        "\n",
        "      if la.norm(lr * sum(misscl)) < theta: # checking if theta threshold is reached\n",
        "        break\n",
        "      misscl = [] # emptying the list for the next circle\n",
        "\n",
        "    iterr += 1\n",
        "    index = (index + 1) % len(y) # this counter will go from 0 to 99 in circles\n",
        "\n",
        "    # if variable learning rate is set to True then we change the learning rate\n",
        "    if variable_lr and index != 0:\n",
        "      lr = 1 / np.sqrt(index)\n",
        "\n",
        "    if delta_y == 0: # if predicted correctly add one to the accuracy counter\n",
        "      accuracy_counter += 1\n",
        "    \n",
        "    if index == 99:\n",
        "      # resetting the accuracy counter for the next 100 iterations\n",
        "      accuracy_counter = 0\n",
        "\n",
        "\n",
        "    if iterr == iter_print_accuracy: \n",
        "\n",
        "      # dividing the result of the accuracy counter by the length of the sample\n",
        "      accuracy = accuracy_counter / len(y)\n",
        "      history[iterr] = accuracy# appending the accuracy (this happens every 100 iterations)\n",
        "\n",
        "      # if verbose is true then print the accuracy \n",
        "      if verbose:\n",
        "        print(\"Iteration : {} -> Accuracy : {}\".format(iterr, accuracy))\n",
        "\n",
        "      # updating the iter_print_accuracy for the next print\n",
        "      iter_print_accuracy += np.random.randint(100,1000)\n",
        "\n",
        "\n",
        "\n",
        "  return a, history\n"
      ],
      "metadata": {
        "id": "2RJVQAVB243a"
      },
      "execution_count": 83,
      "outputs": []
    },
    {
      "cell_type": "markdown",
      "source": [
        "**Question 2** $ \\, ) \\,$ \n",
        "\n",
        "Apply your model on the data using the function ‘train_batch’, for theta equal to 0.01 and a learning rate of 1. Your function should print information about training if the ‘verbose’ argument is True every 100~1000 iterations."
      ],
      "metadata": {
        "id": "VT-GXSqT_4kb"
      }
    },
    {
      "cell_type": "code",
      "source": [
        "a = np.zeros((3,))# initializing a (and initializing it s.t. a_2 != 0)\n",
        "a, history = train_batch(a, y, labels, theta=0.01, lr=1,batch_size=99, verbose=True)"
      ],
      "metadata": {
        "id": "Z0fkQJM5zdh0",
        "colab": {
          "base_uri": "https://localhost:8080/"
        },
        "outputId": "33fe8bbc-8eb4-45bd-9cce-f24c13985bd2"
      },
      "execution_count": 84,
      "outputs": [
        {
          "output_type": "stream",
          "name": "stdout",
          "text": [
            "Iteration : 644 -> Accuracy : 0.0\n",
            "Iteration : 1106 -> Accuracy : 0.07\n",
            "Iteration : 1971 -> Accuracy : 0.51\n",
            "Iteration : 2670 -> Accuracy : 0.2\n",
            "Iteration : 2990 -> Accuracy : 0.55\n",
            "Iteration : 3599 -> Accuracy : 0.0\n",
            "Iteration : 4547 -> Accuracy : 0.48\n",
            "Iteration : 4987 -> Accuracy : 0.58\n",
            "Iteration : 5429 -> Accuracy : 0.3\n",
            "Iteration : 5821 -> Accuracy : 0.22\n",
            "Iteration : 6273 -> Accuracy : 0.74\n",
            "Iteration : 7086 -> Accuracy : 0.86\n",
            "Iteration : 7795 -> Accuracy : 0.95\n",
            "Iteration : 8437 -> Accuracy : 0.38\n",
            "Iteration : 8677 -> Accuracy : 0.78\n",
            "Iteration : 8891 -> Accuracy : 0.9\n",
            "Iteration : 9372 -> Accuracy : 0.72\n"
          ]
        }
      ]
    },
    {
      "cell_type": "markdown",
      "source": [
        "**Question 3** $ \\, ) \\,$ \n",
        "\n",
        "Plot the trained model using the function ‘plot_model’ from exercise 1."
      ],
      "metadata": {
        "id": "lsLwnQzWAB4_"
      }
    },
    {
      "cell_type": "code",
      "source": [
        "plot_model(a)\n",
        "plt.show"
      ],
      "metadata": {
        "colab": {
          "base_uri": "https://localhost:8080/",
          "height": 531
        },
        "id": "hjLw7cVjFlgS",
        "outputId": "d15748d0-a2ed-4cd2-c83c-3beb5cebb9b0"
      },
      "execution_count": 85,
      "outputs": [
        {
          "output_type": "execute_result",
          "data": {
            "text/plain": [
              "<function matplotlib.pyplot.show>"
            ]
          },
          "metadata": {},
          "execution_count": 85
        },
        {
          "output_type": "display_data",
          "data": {
            "text/plain": [
              "<Figure size 720x576 with 1 Axes>"
            ],
            "image/png": "[encoded data removed]"
          },
          "metadata": {
            "needs_background": "light"
          }
        }
      ]
    },
    {
      "cell_type": "markdown",
      "source": [
        "**Question 4** $ \\, ) \\,$ \n",
        "\n",
        "Repeat steps 2 and 3 but this time use a variable learning rate. The learning rate\n",
        "should be equal to:\n",
        "\n",
        "$ \\Large \\frac{1}{\\sqrt{k}} \\ \\\n",
        "\\normalsize where  \\ k = k + \\, ( \\, iter \\ \\% \\ n \\,)\\,  $\n",
        "\n",
        "$ iter := iteration index  $\n",
        "\n",
        "$ n := \\# samples $"
      ],
      "metadata": {
        "id": "kpMOAU0xAFBQ"
      }
    },
    {
      "cell_type": "code",
      "source": [
        "a = np.zeros((3,))# initializing a (and initializing it s.t. a_2 != 0)\n",
        "a, history = train_batch(a, y, labels, theta=0.01, lr=1,batch_size=99, variable_lr=True, verbose=True)"
      ],
      "metadata": {
        "id": "yoxkjaETJuwG",
        "colab": {
          "base_uri": "https://localhost:8080/"
        },
        "outputId": "7fc045ff-1b02-4484-c8bb-4f3a354edb87"
      },
      "execution_count": 86,
      "outputs": [
        {
          "output_type": "stream",
          "name": "stdout",
          "text": [
            "Iteration : 515 -> Accuracy : 0.16\n",
            "Iteration : 1352 -> Accuracy : 0.51\n",
            "Iteration : 1965 -> Accuracy : 0.51\n",
            "Iteration : 2074 -> Accuracy : 0.24\n",
            "Iteration : 2885 -> Accuracy : 0.35\n",
            "Iteration : 3307 -> Accuracy : 0.08\n",
            "Iteration : 4270 -> Accuracy : 0.2\n",
            "Iteration : 4488 -> Accuracy : 0.39\n",
            "Iteration : 5074 -> Accuracy : 0.31\n",
            "Iteration : 5341 -> Accuracy : 0.42\n",
            "Iteration : 6249 -> Accuracy : 0.5\n",
            "Iteration : 7142 -> Accuracy : 0.42\n",
            "Iteration : 7839 -> Accuracy : 0.4\n",
            "Iteration : 8678 -> Accuracy : 0.79\n",
            "Iteration : 8809 -> Accuracy : 0.1\n",
            "Iteration : 9311 -> Accuracy : 0.12\n",
            "Iteration : 9987 -> Accuracy : 0.86\n"
          ]
        }
      ]
    },
    {
      "cell_type": "code",
      "source": [
        "plot_model(a)\n",
        "plt.show"
      ],
      "metadata": {
        "id": "lgm-_t1r4x2M",
        "colab": {
          "base_uri": "https://localhost:8080/",
          "height": 531
        },
        "outputId": "d7d4f82a-928b-49be-b325-3b23309c4e1b"
      },
      "execution_count": 87,
      "outputs": [
        {
          "output_type": "execute_result",
          "data": {
            "text/plain": [
              "<function matplotlib.pyplot.show>"
            ]
          },
          "metadata": {},
          "execution_count": 87
        },
        {
          "output_type": "display_data",
          "data": {
            "text/plain": [
              "<Figure size 720x576 with 1 Axes>"
            ],
            "image/png": "[encoded data removed]"
          },
          "metadata": {
            "needs_background": "light"
          }
        }
      ]
    },
    {
      "cell_type": "code",
      "source": [
        ""
      ],
      "metadata": {
        "id": "p0Y4lHfab5-1"
      },
      "execution_count": 87,
      "outputs": []
    }
  ]
}