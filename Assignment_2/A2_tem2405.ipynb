{
  "nbformat": 4,
  "nbformat_minor": 0,
  "metadata": {
    "colab": {
      "name": "A2_tem2405.ipynb",
      "provenance": [],
      "collapsed_sections": [],
      "authorship_tag": "ABX9TyNqh+GbhBBeFkoQFHsOVh8Z",
      "include_colab_link": true
    },
    "kernelspec": {
      "name": "python3",
      "display_name": "Python 3"
    },
    "language_info": {
      "name": "python"
    }
  },
  "cells": [
    {
      "cell_type": "markdown",
      "metadata": {
        "id": "view-in-github",
        "colab_type": "text"
      },
      "source": [
        "<a href=\"https://colab.research.google.com/github/Hendrix8/Pattern_Recognition/blob/main/Assignment_2/A2_tem2405.ipynb\" target=\"_parent\"><img src=\"https://colab.research.google.com/assets/colab-badge.svg\" alt=\"Open In Colab\"/></a>"
      ]
    },
    {
      "cell_type": "code",
      "execution_count": 33,
      "metadata": {
        "id": "rWj_dDTYJHZe"
      },
      "outputs": [],
      "source": [
        "# Importing libraries \n",
        "import numpy as np \n",
        "import matplotlib.pyplot as plt \n",
        "import pandas as pd \n"
      ]
    },
    {
      "cell_type": "markdown",
      "source": [
        "# Exercise 1 : Medical Test Paradox\n",
        "\n",
        "\n"
      ],
      "metadata": {
        "id": "ldqMZacWQ1mF"
      }
    },
    {
      "cell_type": "markdown",
      "source": [
        "**Question 1** : \n",
        "Write a function in python that given the accuracy of a test and the prior\n",
        "probability of having a disease it returns the posterior probability of having that\n",
        "disease given that you tested positive."
      ],
      "metadata": {
        "id": "HFYMa0erS2dQ"
      }
    },
    {
      "cell_type": "markdown",
      "source": [
        "**Approach** :\n",
        "\n",
        "Knowing sensitivity of the test, $P(+ | D)$ ,\n",
        "\n",
        "the specificity of the test, $P(-|D^\\complement)$\n",
        "\n",
        "and the prior probability of having the disease, $P(D)$\n",
        "\n",
        "We have the following: \n",
        "\n",
        "\n",
        "$ P(D|+) =  \\large \\frac {P(+|D)\\ \\cdot \\ P(D)} {P(+|D) \\ \\cdot \\ P(D) \\ + \\ P(+|D^\\complement) \\ \\cdot \\ P(D^\\complement)} \\ \\ \\ \\ (*)$ \n",
        "\n",
        "Where \n",
        "\n",
        "$i) \\ P(D^\\complement) = 1 - P(D) $\n",
        "\n",
        "$ii) \\ P(+|D^\\complement) = 1 - P(-|D^\\complement)$"
      ],
      "metadata": {
        "id": "v6s_KGky2eUL"
      }
    },
    {
      "cell_type": "code",
      "source": [
        "def probCalc(P_pos_D,P_neg_notD, P_D):\n",
        "\n",
        "  # finding P(!D)\n",
        "  P_notD = 1 - P_D \n",
        "  \n",
        "  # finding P(+|!D)\n",
        "  P_pos_notD = 1 - P_neg_notD\n",
        "\n",
        "  # calculate P(D|+) using the formula (*)\n",
        "  P_D_pos_value = (P_pos_D * P_D) /( (P_pos_D * P_D) + (P_pos_notD * P_notD) )\n",
        "\n",
        "  return P_D_pos_value\n"
      ],
      "metadata": {
        "id": "h27GWauYTE-z"
      },
      "execution_count": 34,
      "outputs": []
    },
    {
      "cell_type": "markdown",
      "source": [
        "**Question 2** : Use the function you implemented to calculate that given the statistics above,\n",
        "what is the probability of that person having the disease? Print the result as a\n",
        "percentage.\n",
        "\n",
        "First we calculate the prior $P(D)$ given the statistics\n",
        "\n",
        "$ P(D) \\approx \\large \\frac{Total \\ Cases}{Population} $ \n",
        "\n",
        "Then we calculate $ P(D|+)$ using the function we created in Question 1."
      ],
      "metadata": {
        "id": "rw9vqrm11mqV"
      }
    },
    {
      "cell_type": "code",
      "source": [
        "P_D = 350000 / (7.9 * 10**(9))\n",
        "P_pos_D = 0.98\n",
        "P_neg_notD = 0.95\n",
        "\n",
        "P_D_pos = probCalc(P_pos_D, P_neg_notD, P_D)\n",
        "\n",
        "print(\"The probability of a person having the disease given that the\" + \n",
        "\" test was positive is \", round(P_D_pos * 100, 3), \"%\")"
      ],
      "metadata": {
        "colab": {
          "base_uri": "https://localhost:8080/"
        },
        "id": "eU2VlkcV1ykq",
        "outputId": "4912f8d9-9e44-414a-8ec7-122587469bde"
      },
      "execution_count": 35,
      "outputs": [
        {
          "output_type": "stream",
          "name": "stdout",
          "text": [
            "The probability of a person having the disease given that the test was positive is  0.087 %\n"
          ]
        }
      ]
    },
    {
      "cell_type": "markdown",
      "source": [
        "**Question 3** : Having calculated the probability of that person having the rare disease you\n",
        "decided to tell the doctor that another test should be carried out since there is not enough evidence to come to a conclusion. Another test is being done to that person and again it comes out positive. After another positive test calculate and print (as a percentage) the posterior probability of that person having the disease."
      ],
      "metadata": {
        "id": "mYYiyLyG6yh4"
      }
    },
    {
      "cell_type": "markdown",
      "source": [
        "Let $ +\\cap + = the \\ event \\ that \\ the \\ first \\\\ \\ and \\ the \\ second \\ test \\ have \\ positive \\ outcome $\n",
        "\n",
        "then we can assume that the outcome of one test is independent of the outcome of another test ( i.e. the event that the second test has positive outcome has the same probability with the event that the first test has positive outcome ) \n",
        "\n",
        "Therefore we have that $\\ P(+\\cap+) = P(+) \\cdot P(+)$ \n",
        "\n",
        "Using the formula $ \\ \\ (*) \\ \\$  we get \n",
        "\n",
        "$P(D \\ |+\\cap \\ +)  \\large = \\frac {P(+\\ \\cap \\ +| D) \\ \\cdot \\ P(D)}{P(+\\ \\cap \\ +| D) \\ \\cdot \\ P(D) \\ + \\ P(+\\ \\cap \\ +| D^\\complement) \\ \\cdot \\ P(D^\\complement)} = \\frac {P(+ | D)^2 \\ \\cdot \\ P(D)}{P(+| D)^2 \\ \\cdot \\ P(D) \\ + \\ P(+| D^\\complement)^2 \\ \\cdot \\ P(D^\\complement)} $ \n",
        "\n",
        "\n",
        "and\n",
        "\n",
        "$P(+|D^\\complement)^2 = (1-P(-|D^\\complement))^2  \\ \\ \\ \\large (* \\ *) $\n",
        "\n",
        "\n"
      ],
      "metadata": {
        "id": "DYsz_pEd-_uL"
      }
    },
    {
      "cell_type": "code",
      "source": [
        "P_pp_D = P_pos_D**2\n",
        "\n",
        "# calculating P(- and -|!D) using the formula (* *)\n",
        "P_pp_notD = (1 - P_neg_notD)**2\n",
        "\n",
        "P_D_pp = probCalc(P_pp_D, 1 - P_pp_notD, P_D)\n",
        "\n",
        "print(\"The probability of a person having the disease given that \"+\n",
        "      \"two consecutive tests had positive outcome \"+\n",
        "      \"is \", round(P_D_pp * 100, 3), \"%\")"
      ],
      "metadata": {
        "colab": {
          "base_uri": "https://localhost:8080/"
        },
        "id": "wRrG4LxzIk2e",
        "outputId": "22faf80c-faa0-4c9d-f735-3e1ab915b330"
      },
      "execution_count": 36,
      "outputs": [
        {
          "output_type": "stream",
          "name": "stdout",
          "text": [
            "The probability of a person having the disease given that two consecutive tests had positive outcome is  1.674 %\n"
          ]
        }
      ]
    },
    {
      "cell_type": "markdown",
      "source": [
        "**Question 4** :  Calculate step 2 again given that the total cases in 2021 were approximately:\n",
        "\n",
        "a. 1 million people\n",
        "\n",
        "b. 10 million people\n",
        "\n",
        "c. 1 billion people"
      ],
      "metadata": {
        "id": "GZdywHBsBBM5"
      }
    },
    {
      "cell_type": "code",
      "source": [
        "# a) \n",
        "P_D = 1000000 / (7.9 * 10**(9))\n",
        "\n",
        "P_D_posA = probCalc(P_pos_D, P_neg_notD, P_D)\n",
        "\n",
        "print(\"The probability of a person having the disease, given that the\" + \n",
        "\" test was positive and the total cases in 2021 are 1,000,000, is \", round(P_D_posA * 100, 3), \"%\")\n",
        "\n",
        "# b)\n",
        "P_D = 10000000 / (7.9 * 10**(9))\n",
        "\n",
        "P_D_posB = probCalc(P_pos_D, P_neg_notD, P_D)\n",
        "\n",
        "print(\"The probability of a person having the disease, given that the\" + \n",
        "\" test was positive and the total cases in 2021 are 10,000,000, is \", round(P_D_posB * 100, 3), \"%\")\n",
        "\n",
        "# c) \n",
        "P_D = 1000000000/ (7.9 * 10**(9))\n",
        "\n",
        "P_D_posC = probCalc(P_pos_D, P_neg_notD, P_D)\n",
        "\n",
        "print(\"The probability of a person having the disease, given that the\" + \n",
        "\" test was positive and the total cases in 2021 are 1,000,000,000, is \", round(P_D_posC * 100, 3), \"%\")\n"
      ],
      "metadata": {
        "colab": {
          "base_uri": "https://localhost:8080/"
        },
        "id": "SF_2ty0LBKbZ",
        "outputId": "72cef045-179f-4598-88bc-cbef1405ac99"
      },
      "execution_count": 37,
      "outputs": [
        {
          "output_type": "stream",
          "name": "stdout",
          "text": [
            "The probability of a person having the disease, given that the test was positive and the total cases in 2021 are 1,000,000, is  0.248 %\n",
            "The probability of a person having the disease, given that the test was positive and the total cases in 2021 are 10,000,000, is  2.424 %\n",
            "The probability of a person having the disease, given that the test was positive and the total cases in 2021 are 1,000,000,000, is  73.962 %\n"
          ]
        }
      ]
    },
    {
      "cell_type": "markdown",
      "source": [
        "**Question 5** : In 1-2 sentences write your thoughts on how and why the prior affects the\n",
        "posterior probability of actually having the disease given that you tested positive.\n",
        "\n"
      ],
      "metadata": {
        "id": "xBAinqxgCtDk"
      }
    },
    {
      "cell_type": "markdown",
      "source": [
        "From the answer in Question 4 we conclude that by increasing the prior, the posterior probability of having the disease also increases.\n",
        "\n",
        "This result is expected since increase in prior means more people have the disease, which implies that the chances of a single person  having the disease, given that the test was positive, increase\n",
        "\n",
        "We can also see this positive correlation in the formula below\n",
        "\n",
        "$ P(D|+) = \\large { \\frac {P(+|D) \\ \\cdot \\ P(D)}{P(+)} }$"
      ],
      "metadata": {
        "id": "sdpZgXJlDFqx"
      }
    }
  ]
}