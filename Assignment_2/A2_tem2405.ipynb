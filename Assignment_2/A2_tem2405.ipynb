{
  "nbformat": 4,
  "nbformat_minor": 0,
  "metadata": {
    "colab": {
      "name": "A2_tem2405.ipynb",
      "provenance": [],
      "collapsed_sections": [],
      "authorship_tag": "ABX9TyOO00VnLCUPAGoYj4MLCoDv",
      "include_colab_link": true
    },
    "kernelspec": {
      "name": "python3",
      "display_name": "Python 3"
    },
    "language_info": {
      "name": "python"
    }
  },
  "cells": [
    {
      "cell_type": "markdown",
      "metadata": {
        "id": "view-in-github",
        "colab_type": "text"
      },
      "source": [
        "<a href=\"https://colab.research.google.com/github/Hendrix8/Pattern_Recognition/blob/main/Assignment_2/A2_tem2405.ipynb\" target=\"_parent\"><img src=\"https://colab.research.google.com/assets/colab-badge.svg\" alt=\"Open In Colab\"/></a>"
      ]
    },
    {
      "cell_type": "code",
      "execution_count": 131,
      "metadata": {
        "id": "rWj_dDTYJHZe"
      },
      "outputs": [],
      "source": [
        "# Importing libraries \n",
        "import numpy as np \n",
        "import matplotlib.pyplot as plt \n",
        "import pandas as pd \n",
        "import scipy.special as sp\n",
        "\n"
      ]
    },
    {
      "cell_type": "code",
      "source": [
        "# Accessing the csv files\n",
        "from google.colab import drive\n",
        "drive.mount(\"/content/drive\")"
      ],
      "metadata": {
        "colab": {
          "base_uri": "https://localhost:8080/"
        },
        "id": "uIlRCjvXsfe8",
        "outputId": "08fd9c24-8b4c-4cd7-e05a-481fcb48fca2"
      },
      "execution_count": 132,
      "outputs": [
        {
          "output_type": "stream",
          "name": "stdout",
          "text": [
            "Drive already mounted at /content/drive; to attempt to forcibly remount, call drive.mount(\"/content/drive\", force_remount=True).\n"
          ]
        }
      ]
    },
    {
      "cell_type": "markdown",
      "source": [
        "# Exercise 1 : Medical Test Paradox\n",
        "\n",
        "\n"
      ],
      "metadata": {
        "id": "ldqMZacWQ1mF"
      }
    },
    {
      "cell_type": "markdown",
      "source": [
        "**Question 1** : \n",
        "Write a function in python that given the accuracy of a test and the prior\n",
        "probability of having a disease it returns the posterior probability of having that\n",
        "disease given that you tested positive."
      ],
      "metadata": {
        "id": "HFYMa0erS2dQ"
      }
    },
    {
      "cell_type": "markdown",
      "source": [
        "**Approach** :\n",
        "\n",
        "Knowing sensitivity of the test, $P(+ | D)$ ,\n",
        "\n",
        "the specificity of the test, $P(-|D^\\complement)$\n",
        "\n",
        "and the prior probability of having the disease, $P(D)$\n",
        "\n",
        "We have the following: \n",
        "\n",
        "\n",
        "$ P(D|+) =  \\large \\frac {P(+|D)\\ \\cdot \\ P(D)} {P(+|D) \\ \\cdot \\ P(D) \\ + \\ P(+|D^\\complement) \\ \\cdot \\ P(D^\\complement)} \\ \\ \\ \\ (*)$ \n",
        "\n",
        "Where \n",
        "\n",
        "$i) \\ P(D^\\complement) = 1 - P(D) $\n",
        "\n",
        "$ii) \\ P(+|D^\\complement) = 1 - P(-|D^\\complement)$"
      ],
      "metadata": {
        "id": "v6s_KGky2eUL"
      }
    },
    {
      "cell_type": "code",
      "source": [
        "def probCalc(P_pos_D,P_neg_notD, P_D):\n",
        "\n",
        "  # finding P(!D)\n",
        "  P_notD = 1 - P_D \n",
        "  \n",
        "  # finding P(+|!D)\n",
        "  P_pos_notD = 1 - P_neg_notD\n",
        "\n",
        "  # calculate P(D|+) using the formula (*)\n",
        "  P_D_pos_value = (P_pos_D * P_D) /( (P_pos_D * P_D) + (P_pos_notD * P_notD) )\n",
        "\n",
        "  return P_D_pos_value\n"
      ],
      "metadata": {
        "id": "h27GWauYTE-z"
      },
      "execution_count": 133,
      "outputs": []
    },
    {
      "cell_type": "markdown",
      "source": [
        "**Question 2** : Use the function you implemented to calculate that given the statistics above,\n",
        "what is the probability of that person having the disease? Print the result as a\n",
        "percentage.\n",
        "\n",
        "First we calculate the prior $P(D)$ given the statistics\n",
        "\n",
        "$ P(D) \\approx \\large \\frac{Total \\ Cases}{Population} $ \n",
        "\n",
        "Then we calculate $ P(D|+)$ using the function we created in Question 1."
      ],
      "metadata": {
        "id": "rw9vqrm11mqV"
      }
    },
    {
      "cell_type": "code",
      "source": [
        "P_D = 350000 / (7.9 * 10**(9))\n",
        "P_pos_D = 0.98\n",
        "P_neg_notD = 0.95\n",
        "\n",
        "P_D_pos = probCalc(P_pos_D, P_neg_notD, P_D)\n",
        "\n",
        "print(\"The probability of a person having the disease given that the\" + \n",
        "\" test was positive is \", round(P_D_pos * 100, 3), \"%\")"
      ],
      "metadata": {
        "colab": {
          "base_uri": "https://localhost:8080/"
        },
        "id": "eU2VlkcV1ykq",
        "outputId": "570ddf6e-8b80-4f83-be0c-52edab8f7b15"
      },
      "execution_count": 134,
      "outputs": [
        {
          "output_type": "stream",
          "name": "stdout",
          "text": [
            "The probability of a person having the disease given that the test was positive is  0.087 %\n"
          ]
        }
      ]
    },
    {
      "cell_type": "markdown",
      "source": [
        "**Question 3** : Having calculated the probability of that person having the rare disease you\n",
        "decided to tell the doctor that another test should be carried out since there is not enough evidence to come to a conclusion. Another test is being done to that person and again it comes out positive. After another positive test calculate and print (as a percentage) the posterior probability of that person having the disease."
      ],
      "metadata": {
        "id": "mYYiyLyG6yh4"
      }
    },
    {
      "cell_type": "markdown",
      "source": [
        "Let $ +\\cap + = the \\ event \\ that \\ the \\ first \\\\ \\ and \\ the \\ second \\ test \\ have \\ positive \\ outcome $\n",
        "\n",
        "then we can assume that the outcome of one test is independent of the outcome of another test ( i.e. the event that the second test has positive outcome has the same probability with the event that the first test has positive outcome ) \n",
        "\n",
        "Therefore we have that $\\ P(+\\cap+) = P(+) \\cdot P(+)$ \n",
        "\n",
        "Using the formula $ \\ \\ (*) \\ \\$  we get \n",
        "\n",
        "$P(D \\ |+\\cap \\ +)  \\large = \\frac {P(+\\ \\cap \\ +| D) \\ \\cdot \\ P(D)}{P(+\\ \\cap \\ +| D) \\ \\cdot \\ P(D) \\ + \\ P(+\\ \\cap \\ +| D^\\complement) \\ \\cdot \\ P(D^\\complement)} = \\frac {P(+ | D)^2 \\ \\cdot \\ P(D)}{P(+| D)^2 \\ \\cdot \\ P(D) \\ + \\ P(+| D^\\complement)^2 \\ \\cdot \\ P(D^\\complement)} $ \n",
        "\n",
        "\n",
        "and\n",
        "\n",
        "$P(+|D^\\complement)^2 = (1-P(-|D^\\complement))^2  \\ \\ \\ \\large (* \\ *) $\n",
        "\n",
        "\n"
      ],
      "metadata": {
        "id": "DYsz_pEd-_uL"
      }
    },
    {
      "cell_type": "code",
      "source": [
        "P_pp_D = P_pos_D**2\n",
        "\n",
        "# calculating P(- and -|!D) using the formula (* *)\n",
        "P_pp_notD = (1 - P_neg_notD)**2\n",
        "\n",
        "P_D_pp = probCalc(P_pp_D, 1 - P_pp_notD, P_D)\n",
        "\n",
        "print(\"The probability of a person having the disease given that \"+\n",
        "      \"two consecutive tests had positive outcome \"+\n",
        "      \"is \", round(P_D_pp * 100, 3), \"%\")"
      ],
      "metadata": {
        "colab": {
          "base_uri": "https://localhost:8080/"
        },
        "id": "wRrG4LxzIk2e",
        "outputId": "41b42eb6-1791-4a9f-90a1-78ebfe5ae39c"
      },
      "execution_count": 135,
      "outputs": [
        {
          "output_type": "stream",
          "name": "stdout",
          "text": [
            "The probability of a person having the disease given that two consecutive tests had positive outcome is  1.674 %\n"
          ]
        }
      ]
    },
    {
      "cell_type": "markdown",
      "source": [
        "**Question 4** :  Calculate step 2 again given that the total cases in 2021 were approximately:\n",
        "\n",
        "a. 1 million people\n",
        "\n",
        "b. 10 million people\n",
        "\n",
        "c. 1 billion people"
      ],
      "metadata": {
        "id": "GZdywHBsBBM5"
      }
    },
    {
      "cell_type": "code",
      "source": [
        "# a) \n",
        "P_D = 1000000 / (7.9 * 10**(9))\n",
        "\n",
        "P_D_posA = probCalc(P_pos_D, P_neg_notD, P_D)\n",
        "\n",
        "print(\"The probability of a person having the disease, given that the\" + \n",
        "\" test was positive and the total cases in 2021 are 1,000,000, is \", round(P_D_posA * 100, 3), \"%\")\n",
        "\n",
        "# b)\n",
        "P_D = 10000000 / (7.9 * 10**(9))\n",
        "\n",
        "P_D_posB = probCalc(P_pos_D, P_neg_notD, P_D)\n",
        "\n",
        "print(\"The probability of a person having the disease, given that the\" + \n",
        "\" test was positive and the total cases in 2021 are 10,000,000, is \", round(P_D_posB * 100, 3), \"%\")\n",
        "\n",
        "# c) \n",
        "P_D = 1000000000/ (7.9 * 10**(9))\n",
        "\n",
        "P_D_posC = probCalc(P_pos_D, P_neg_notD, P_D)\n",
        "\n",
        "print(\"The probability of a person having the disease, given that the\" + \n",
        "\" test was positive and the total cases in 2021 are 1,000,000,000, is \", round(P_D_posC * 100, 3), \"%\")\n"
      ],
      "metadata": {
        "colab": {
          "base_uri": "https://localhost:8080/"
        },
        "id": "SF_2ty0LBKbZ",
        "outputId": "f801f43e-5f03-4ab1-a5ba-365eb585e886"
      },
      "execution_count": 136,
      "outputs": [
        {
          "output_type": "stream",
          "name": "stdout",
          "text": [
            "The probability of a person having the disease, given that the test was positive and the total cases in 2021 are 1,000,000, is  0.248 %\n",
            "The probability of a person having the disease, given that the test was positive and the total cases in 2021 are 10,000,000, is  2.424 %\n",
            "The probability of a person having the disease, given that the test was positive and the total cases in 2021 are 1,000,000,000, is  73.962 %\n"
          ]
        }
      ]
    },
    {
      "cell_type": "markdown",
      "source": [
        "**Question 5** : In 1-2 sentences write your thoughts on how and why the prior affects the\n",
        "posterior probability of actually having the disease given that you tested positive.\n",
        "\n"
      ],
      "metadata": {
        "id": "xBAinqxgCtDk"
      }
    },
    {
      "cell_type": "markdown",
      "source": [
        "From the answer in Question 4 we conclude that by increasing the prior, the posterior probability of having the disease also increases.\n",
        "\n",
        "This result is expected since increase in prior means more people have the disease, which implies that the chances of a single person  having the disease, given that the test was positive, increase\n",
        "\n",
        "We can also see this positive correlation in the formula below\n",
        "\n",
        "$ P(D|+) = \\large { \\frac {P(+|D) \\ \\cdot \\ P(D)}{P(+)} }$\n",
        "\n",
        "---"
      ],
      "metadata": {
        "id": "sdpZgXJlDFqx"
      }
    },
    {
      "cell_type": "markdown",
      "source": [
        "# Exercise 2 : “In the footsteps of Bayes” (Visualizing Bayesian updating)\n"
      ],
      "metadata": {
        "id": "5newL9FVLS3Q"
      }
    },
    {
      "cell_type": "markdown",
      "source": [
        "**Question 1** : \n",
        "\n",
        "Write a python function to calculate the posterior probability of the coin being\n",
        "located at $ \\ (x, y) \\ $ given the observation $ \\{L, F, N \\} $.\n",
        "\n",
        "\n",
        "$𝑃(𝑥,𝑦 \\ | \\ 𝐿,𝐹,𝑁) = 𝑃(𝑥 \\ | \\ 𝐿,𝐹,𝑁) \\cdot 𝑃(𝑦 \\ | \\ 𝐿,𝐹,𝑁) = 𝑃(𝑥 \\ | \\ 𝐿,𝑁) \\cdot 𝑃(𝑦 \\ | \\ 𝐹,𝑁) = \\ ? $\n",
        "\n",
        "\n",
        "(Hint: The last equality comes from the fact that the coin’s x-coordinate is independent of F and vice versa.)\n",
        "\n",
        "\n",
        "$a)$ Given a single random toss, what is the probability of the ball landing left of/ right of/ in front of/ behind the coin?\n",
        " \n",
        " ( $0 \\leq 𝑥 \\leq 1 $,  Hint: The greater the coin’s x-coordinate, the greater the probability of the ball landing left of the coin - Try it yourself but highlight to reveal the first solution if you need to $)$.\n",
        "\n",
        "$ i) \\ 𝑃( \\ 𝑙𝑒𝑓𝑡 \\ | \\ 𝑥,𝑦) = 𝑃( \\ 𝑙𝑒𝑓𝑡 \\ | \\ 𝑥) =𝑥 \\\\\n",
        "ii) \\ 𝑃( \\ 𝑟𝑖𝑔h𝑡 \\ | \\ 𝑥,𝑦) = 𝑃( \\ 𝑟𝑖𝑔h𝑡 \\ | \\ 𝑥) = \\ ? \\\\\n",
        "iii) \\ 𝑃( \\ 𝑓𝑟𝑜𝑛𝑡 \\ | \\ 𝑥,𝑦) = 𝑃( \\ 𝑓𝑟𝑜𝑛𝑡 \\ | \\ 𝑦) = \\ ? \\\\\n",
        "iv)  \\ 𝑃( \\ 𝑏𝑒h𝑖𝑛𝑑 \\ | \\ 𝑥,𝑦) = 𝑃( \\ 𝑏𝑒h𝑖𝑛𝑑 \\ | \\ 𝑦 ) = \\ ? \\\\ $"
      ],
      "metadata": {
        "id": "H1WX0EoFTOWd"
      }
    },
    {
      "cell_type": "markdown",
      "source": [
        "**Answer** :\n",
        "\n",
        " We have\n",
        " \n",
        "  $i \\, ) \\ P( \\ left| \\ x) = \\large \\frac {Area \\, ( \\ [ \\,0,x \\,] \\ \\times \\ [ \\,0,1]\\, \\, )}{Area \\, ( \\ [ \\,0,1 \\,] \\ \\times \\ [ \\,0,1]\\, \\, )} \\normalsize = \\frac {x \\cdot 1}{1 \\cdot 1} = x$\n",
        "\n",
        " $ii \\, ) \\ P( \\ right| \\ x) = \\large \\frac {Area \\, ( \\ [ \\,x,1 \\,] \\ \\times \\ [ \\,0,1]\\, \\, )}{Area \\, ( \\ [ \\,0,1 \\,] \\ \\times \\ [ \\,0,1]\\, \\, )} \\normalsize = \\frac { \\, (1 - x \\, ) \\cdot 1}{1 \\cdot 1} = 1 - x$\n",
        "\n",
        "$  iii \\, ) \\ P( \\ front| \\ y) = \\large \\frac {Area \\, ( \\ [ \\,0,1 \\,] \\ \\times \\ [ \\,0,y]\\, \\, )}{Area \\, ( \\ [ \\,0,1 \\,] \\ \\times \\ [ \\,0,1]\\, \\, )} \\normalsize = \\frac {  1 \\cdot y}{1 \\cdot 1} = y$\n",
        "\n",
        "$  iv \\, ) \\ P( \\ behind| \\ y) =  1 - P( \\ front| \\ y) =1- y$\n"
      ],
      "metadata": {
        "id": "CQYSPwKsM3Jz"
      }
    },
    {
      "cell_type": "markdown",
      "source": [
        "$b)$ What is the probability of the ball landing left of the coin 5 times in a row?\n",
        "\n",
        "(Hint: individual ball tosses are completely independent events)\n",
        "\n",
        "$i) \\  𝑃( \\ 𝐿=5,𝑁=5 \\ | \\ 𝑥,𝑦)= 𝑃( \\ 𝐿=5,𝑁=5 \\ | \\ 𝑥) = \\ ? $\n",
        "\n",
        "\n",
        "\n"
      ],
      "metadata": {
        "id": "xraKupMHMzVX"
      }
    },
    {
      "cell_type": "markdown",
      "source": [
        "**Answer** : \n",
        "\n",
        "$  𝑃( \\ 𝐿=5,𝑁=5 \\ | \\ 𝑥) = \\  P( \\ left | \\ x)^5 = x^5 $"
      ],
      "metadata": {
        "id": "08cUADOBS75c"
      }
    },
    {
      "cell_type": "markdown",
      "source": [
        "$c)$ What is the probability that 3 out of 10 balls land left of the coin? \n",
        "\n",
        "(Hint:\n",
        "It is the probability of the ball landing left 3 times multiplied by the probability landing right 7 times multiplied by the total number of possible orders in which 3 ‘lefts’ and 7 ‘rights’ can occur - for the last term use the binomial coefficient).\n",
        "\n",
        "\n",
        "$ i) \\ 𝑃( \\ 𝐿=3,𝑁=10 \\ | \\ 𝑥,𝑦)=𝑃( \\ 𝐿=3,𝑁=10 \\ | \\ 𝑥)= \\ ?$"
      ],
      "metadata": {
        "id": "yPBsOTyFSdIT"
      }
    },
    {
      "cell_type": "markdown",
      "source": [
        "**Answer** : \n",
        "\n",
        "$ 𝑃( \\ 𝐿=3,𝑁=10 \\ | \\ 𝑥)= \\binom {10}{3} \\cdot P \\, ( \\ left| \\ x \\, )^3 \\cdot P \\, ( \\ right| \\ x \\, )^7 = 120 \\cdot x^3 \\cdot \\, (1-x \\, )^7  $"
      ],
      "metadata": {
        "id": "EEvfav-uT2SY"
      }
    },
    {
      "cell_type": "markdown",
      "source": [
        "$d)$ If you have completed all the previous small steps, you should be\n",
        "equipped with all the knowledge required to calculate $ 𝑃( \\ 𝑥, 𝑦 \\ |  \\ 𝐿, 𝐹, 𝑁) $ using Bayes Theorem. \n",
        "\n",
        "(Hint: The terms $𝑃(𝑥)$ 𝑎𝑛𝑑 $𝑃(𝑦)$, that is the prior probabilities of the points of the table are the same among the points and can thus be ignored, since they would only scale the overall distribution. \n",
        "\n",
        "Additionally, $𝑃(𝐿, 𝑁)$ 𝑎𝑛𝑑 $𝑃(𝐹, 𝑁)$, namely the evidence, are constants and can thus be ignored)."
      ],
      "metadata": {
        "id": "olW9m3flSjf3"
      }
    },
    {
      "cell_type": "markdown",
      "source": [
        "**Answer** : \n",
        "\n",
        "Using the hints given we calculate \n",
        "\n",
        "$ P \\, ( \\ x | L = 18, N = 30 \\, ) \\large  = \\frac { P \\, ( \\ L = 18, N = 30 |x  \\, ) \\cdot P \\, (x \\, )}{P \\, ( L = 18, N = 30\\,) }$\n",
        "\n",
        "ignoring $P \\,( x \\, )$ and $ P \\, ( L = 18, N = 30 \\, ) $\n",
        "\n",
        "We get \n",
        "\n",
        "\n",
        "$  P \\, (\\ L = 18, N = 30 | x \\, ) = \\binom {30}{18} \\cdot x^{18} \\cdot \\, ( 1-x\\, ) ^ {12}$\n",
        "\n",
        "Similarly \n",
        "\n",
        "$  P \\, (\\ F = 8, N = 30 | y \\, ) = \\binom {30}{8} \\cdot y^{8} \\cdot \\, ( 1-y\\, ) ^ {22}$\n",
        "\n",
        "Finally \n",
        "\n",
        "$  P \\, ( \\ x,y | \\ L,F,N\\,) = \\binom {30}{18} \\cdot \\binom {30}{8} \\cdot x^{18} \\cdot \\, ( 1-x\\, ) ^ {12} y^{8} \\cdot \\, ( 1-y\\, ) ^ {22}$\n"
      ],
      "metadata": {
        "id": "NCjTfZYIMnmK"
      }
    },
    {
      "cell_type": "code",
      "source": [
        "# Using the result from Question 1.d we can now create the function that returns the posterior\n",
        "# P(x, y| L, F,  N)\n",
        "\n",
        "def postCalc(x, y, L, F, N):\n",
        "  return sp.comb(N, L) * sp.comb(N, 8) * x**L * (1 - x)**(N - L) * y**F * (1 - y)**(N - F)"
      ],
      "metadata": {
        "id": "Jlh9LwHj8rPb"
      },
      "execution_count": 137,
      "outputs": []
    },
    {
      "cell_type": "markdown",
      "source": [
        "**Question 2** : \n",
        "\n",
        "Using the values of L, F, N given to you and calculate the posterior probabilities of the points of the table using the function you implemented. Visualize the results on a 3D plot. You could make use of the following functions:\n"
      ],
      "metadata": {
        "id": "J0cpZbxo8VmT"
      }
    },
    {
      "cell_type": "markdown",
      "source": [
        "$a)$\n",
        "Similarly to the first assignment, the points that represent the table should be made using the “np.linspace” function. The table should be a 100 x 100 matrix, and you should feed that matrix to the function you implemented (be careful, the shape of the matrix should change to 10000 x 2 prior feeding it to the function and back to 100 x 100 prior to plotting the results)."
      ],
      "metadata": {
        "id": "9zxt0vKw_xRB"
      }
    },
    {
      "cell_type": "code",
      "source": [
        "x = np.linspace(0,1,100)\n",
        "y = np.linspace(0,1,100)\n",
        "N = 30\n",
        "L = 18\n",
        "F = 8\n",
        "# Creating 10000x2 matrix with the points of the table\n",
        "points = []\n",
        "\n",
        "for i in x:\n",
        "  for j in y:\n",
        "    points.append((i, j))\n",
        "\n",
        "pointsArr = np.array(points)\n",
        "\n",
        "# Creating a 100x100 matrix\n",
        "\n",
        "# breaking the pointsArray into chuncks of 100s\n",
        "matrixRows = np.array_split(pointsArr, 100)\n",
        "matrix = np.array(matrixRows)\n",
        "\n",
        "postList = []\n",
        "for i in points:\n",
        "  postList.append(postCalc(i[0], i[1], L, F, N))\n",
        "\n",
        "postArr = np.array(postList)\n",
        "\n",
        "postMatrix = np.array(np.array_split(postArr, 100))\n",
        "\n"
      ],
      "metadata": {
        "id": "_H7i19S-Accy"
      },
      "execution_count": 138,
      "outputs": []
    },
    {
      "cell_type": "markdown",
      "source": [
        "$b)$ In order to create the 3D plot you could use the functions:\n",
        "\n",
        "$i)$ “ plt.gca(projection='3d') ” which will return the axis of a 3D\n",
        "figure\n",
        "\n",
        "$ii)$ “ ax.plot_surface ” using the axis the previous function returned"
      ],
      "metadata": {
        "id": "jlrEXQs_ACat"
      }
    },
    {
      "cell_type": "code",
      "source": [
        "# Visualizing \n",
        "ax = plt.gca(projection='3d') \n",
        "ax.plot_surface(x,y,postMatrix)\n",
        "plt.show()"
      ],
      "metadata": {
        "colab": {
          "base_uri": "https://localhost:8080/",
          "height": 248
        },
        "id": "nYNwGaHx9xpr",
        "outputId": "aa8b99a5-f8b9-44bb-8f03-ca6fb48981c5"
      },
      "execution_count": 139,
      "outputs": [
        {
          "output_type": "display_data",
          "data": {
            "text/plain": [
              "<Figure size 432x288 with 1 Axes>"
            ],
            "image/png": "[encoded data removed]"
          },
          "metadata": {
            "needs_background": "light"
          }
        }
      ]
    },
    {
      "cell_type": "markdown",
      "source": [
        "**Question 3** :\n",
        "\n",
        " Lastly, we would like to visualize and understand how our belief about the coin’s position changes with each new observation, similar to Bayes’ original thought experiment. For this purpose you are provided with the files fronts.csv and lefts.csv (Bonus 10%).\n",
        "\n",
        "\n",
        "$a)$ Load the csv files given to you.\n",
        "\n",
        "$b)$ Use the following libraries and commands to create an animated 3D plot\n",
        "of 30 frames, that is 1 frame for each new observation (the first elements of the files are the first observation, the second elements are the second observation, etc...). Each frame should be a 3D plot (as in the previous step) of the posterior probabilities of each point of the table after each observation.\n",
        "\n",
        "from matplotlib import rc\n",
        "\n",
        "rc('animation', html='jshtml')\n",
        "\n",
        "from mpl_toolkits import mplot3d\n",
        "\n",
        "import matplotlib.animation as animation"
      ],
      "metadata": {
        "id": "ouO7Gg-2qpV_"
      }
    },
    {
      "cell_type": "code",
      "source": [
        "frontsPath = \"/content/drive/MyDrive/Colab Notebooks/Pattern_Recognition/Assignment_2/fronts.csv\"\n",
        "leftsPath = \"/content/drive/MyDrive/Colab Notebooks/Pattern_Recognition/Assignment_2/lefts.csv\"\n",
        "\n",
        "frontsDf = pd.read_csv(frontsPath)\n",
        "leftsDf = pd.read_csv(leftsPath)\n",
        "\n"
      ],
      "metadata": {
        "colab": {
          "base_uri": "https://localhost:8080/",
          "height": 206
        },
        "id": "be5FEr00q6ti",
        "outputId": "41824b7d-22ca-4789-b940-82884fb3f51b"
      },
      "execution_count": 142,
      "outputs": [
        {
          "output_type": "execute_result",
          "data": {
            "text/plain": [
              "   0.000000000000000000e+00\n",
              "0                       0.0\n",
              "1                       0.0\n",
              "2                       0.0\n",
              "3                       0.0\n",
              "4                       0.0"
            ],
            "text/html": [
              "\n",
              "  <div id=\"df-5e906ca6-3dc6-4d64-883c-8ec7aa27ae3c\">\n",
              "    <div class=\"colab-df-container\">\n",
              "      <div>\n",
              "<style scoped>\n",
              "    .dataframe tbody tr th:only-of-type {\n",
              "        vertical-align: middle;\n",
              "    }\n",
              "\n",
              "    .dataframe tbody tr th {\n",
              "        vertical-align: top;\n",
              "    }\n",
              "\n",
              "    .dataframe thead th {\n",
              "        text-align: right;\n",
              "    }\n",
              "</style>\n",
              "<table border=\"1\" class=\"dataframe\">\n",
              "  <thead>\n",
              "    <tr style=\"text-align: right;\">\n",
              "      <th></th>\n",
              "      <th>0.000000000000000000e+00</th>\n",
              "    </tr>\n",
              "  </thead>\n",
              "  <tbody>\n",
              "    <tr>\n",
              "      <th>0</th>\n",
              "      <td>0.0</td>\n",
              "    </tr>\n",
              "    <tr>\n",
              "      <th>1</th>\n",
              "      <td>0.0</td>\n",
              "    </tr>\n",
              "    <tr>\n",
              "      <th>2</th>\n",
              "      <td>0.0</td>\n",
              "    </tr>\n",
              "    <tr>\n",
              "      <th>3</th>\n",
              "      <td>0.0</td>\n",
              "    </tr>\n",
              "    <tr>\n",
              "      <th>4</th>\n",
              "      <td>0.0</td>\n",
              "    </tr>\n",
              "  </tbody>\n",
              "</table>\n",
              "</div>\n",
              "      <button class=\"colab-df-convert\" onclick=\"convertToInteractive('df-5e906ca6-3dc6-4d64-883c-8ec7aa27ae3c')\"\n",
              "              title=\"Convert this dataframe to an interactive table.\"\n",
              "              style=\"display:none;\">\n",
              "        \n",
              "  <svg xmlns=\"http://www.w3.org/2000/svg\" height=\"24px\"viewBox=\"0 0 24 24\"\n",
              "       width=\"24px\">\n",
              "    <path d=\"M0 0h24v24H0V0z\" fill=\"none\"/>\n",
              "    <path d=\"M18.56 5.44l.94 2.06.94-2.06 2.06-.94-2.06-.94-.94-2.06-.94 2.06-2.06.94zm-11 1L8.5 8.5l.94-2.06 2.06-.94-2.06-.94L8.5 2.5l-.94 2.06-2.06.94zm10 10l.94 2.06.94-2.06 2.06-.94-2.06-.94-.94-2.06-.94 2.06-2.06.94z\"/><path d=\"M17.41 7.96l-1.37-1.37c-.4-.4-.92-.59-1.43-.59-.52 0-1.04.2-1.43.59L10.3 9.45l-7.72 7.72c-.78.78-.78 2.05 0 2.83L4 21.41c.39.39.9.59 1.41.59.51 0 1.02-.2 1.41-.59l7.78-7.78 2.81-2.81c.8-.78.8-2.07 0-2.86zM5.41 20L4 18.59l7.72-7.72 1.47 1.35L5.41 20z\"/>\n",
              "  </svg>\n",
              "      </button>\n",
              "      \n",
              "  <style>\n",
              "    .colab-df-container {\n",
              "      display:flex;\n",
              "      flex-wrap:wrap;\n",
              "      gap: 12px;\n",
              "    }\n",
              "\n",
              "    .colab-df-convert {\n",
              "      background-color: #E8F0FE;\n",
              "      border: none;\n",
              "      border-radius: 50%;\n",
              "      cursor: pointer;\n",
              "      display: none;\n",
              "      fill: #1967D2;\n",
              "      height: 32px;\n",
              "      padding: 0 0 0 0;\n",
              "      width: 32px;\n",
              "    }\n",
              "\n",
              "    .colab-df-convert:hover {\n",
              "      background-color: #E2EBFA;\n",
              "      box-shadow: 0px 1px 2px rgba(60, 64, 67, 0.3), 0px 1px 3px 1px rgba(60, 64, 67, 0.15);\n",
              "      fill: #174EA6;\n",
              "    }\n",
              "\n",
              "    [theme=dark] .colab-df-convert {\n",
              "      background-color: #3B4455;\n",
              "      fill: #D2E3FC;\n",
              "    }\n",
              "\n",
              "    [theme=dark] .colab-df-convert:hover {\n",
              "      background-color: #434B5C;\n",
              "      box-shadow: 0px 1px 3px 1px rgba(0, 0, 0, 0.15);\n",
              "      filter: drop-shadow(0px 1px 2px rgba(0, 0, 0, 0.3));\n",
              "      fill: #FFFFFF;\n",
              "    }\n",
              "  </style>\n",
              "\n",
              "      <script>\n",
              "        const buttonEl =\n",
              "          document.querySelector('#df-5e906ca6-3dc6-4d64-883c-8ec7aa27ae3c button.colab-df-convert');\n",
              "        buttonEl.style.display =\n",
              "          google.colab.kernel.accessAllowed ? 'block' : 'none';\n",
              "\n",
              "        async function convertToInteractive(key) {\n",
              "          const element = document.querySelector('#df-5e906ca6-3dc6-4d64-883c-8ec7aa27ae3c');\n",
              "          const dataTable =\n",
              "            await google.colab.kernel.invokeFunction('convertToInteractive',\n",
              "                                                     [key], {});\n",
              "          if (!dataTable) return;\n",
              "\n",
              "          const docLinkHtml = 'Like what you see? Visit the ' +\n",
              "            '<a target=\"_blank\" href=https://colab.research.google.com/notebooks/data_table.ipynb>data table notebook</a>'\n",
              "            + ' to learn more about interactive tables.';\n",
              "          element.innerHTML = '';\n",
              "          dataTable['output_type'] = 'display_data';\n",
              "          await google.colab.output.renderOutput(dataTable, element);\n",
              "          const docLink = document.createElement('div');\n",
              "          docLink.innerHTML = docLinkHtml;\n",
              "          element.appendChild(docLink);\n",
              "        }\n",
              "      </script>\n",
              "    </div>\n",
              "  </div>\n",
              "  "
            ]
          },
          "metadata": {},
          "execution_count": 142
        }
      ]
    },
    {
      "cell_type": "code",
      "source": [
        ""
      ],
      "metadata": {
        "id": "KIKqlmFYuJIe"
      },
      "execution_count": null,
      "outputs": []
    }
  ]
}